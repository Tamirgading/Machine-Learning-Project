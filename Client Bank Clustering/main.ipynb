{
 "cells": [
  {
   "cell_type": "markdown",
   "metadata": {},
   "source": [
    "# Client Bank Clustering"
   ]
  },
  {
   "cell_type": "markdown",
   "metadata": {},
   "source": [
    "**GOAL**\n",
    "\n",
    "Melakukan clustering data client bank agar dapat **memahami karakter client bank** yang ada terhadap **campaign** yang dilakukan"
   ]
  },
  {
   "cell_type": "markdown",
   "metadata": {},
   "source": [
    "<img src=\"https://previews.123rf.com/images/microone/microone2007/microone200700049/150854819-bank-clients-service-banking-office-counter-and-client-service-cash-desk-cashier-atm-professional.jpg\" alt=\"iris\" width=\"700\" align=center/>"
   ]
  },
  {
   "cell_type": "markdown",
   "metadata": {},
   "source": [
    "**Dataset Information**\n",
    "\n",
    "The data is related with direct marketing campaigns of a Portuguese banking institution. \n",
    "The marketing campaigns were based on phone calls. Often, more than one contact to the same client was required, on order to access if the product (bank term deposit) would be (or not) subscribed. \n",
    "Dataset `bank.csv` ordered by date (from May 2008 to November 2010). \n",
    "The **exercise goal** is to discover interesting things about the measurement."
   ]
  },
  {
   "cell_type": "markdown",
   "metadata": {},
   "source": [
    "**Variables**\n",
    "\n",
    "<u>Numeric</u>\n",
    "- `age`\n",
    "- `balance`: average yearly balance, in euros\n",
    "- `duration`: last coontact duration, in seconds\n",
    "- `campaign`: number of contacts performed during this campaign and for this client (numeric, includes last contact)\n",
    "- `pdays`: number of days that passed by after the client was last contacted from a previous campaign (numeric, -1 means client was not previously contacted)\n",
    "- `previous`: number of contacts performed before this campaign and for this client\n",
    "\n",
    "<u>Categoric</u>\n",
    "- `job` : type of job (categorical) \n",
    "- `marital` : marital status (categorical)\n",
    "- `education` (categorical)\n",
    "- `default`: has credit in default? (binary: \"yes\",\"no\")\n",
    "- `housing`: has housing loan? (binary: \"yes\",\"no\")\n",
    "- `loan`: has personal loan? (binary: \"yes\",\"no\")\n",
    "- `contact`: contact communication type (categorical) \n",
    "- `day`: last contact day of the month \n",
    "- `month`: last contact month of year (categorical)\n",
    "- `poutcome`: outcome of the previous marketing campaign (categorical)"
   ]
  },
  {
   "cell_type": "markdown",
   "metadata": {},
   "source": [
    "Source :  S. Moro, R. Laureano and P. Cortez. Using Data Mining for Bank Direct Marketing: An Application of the CRISP-DM Methodology. <br>\n",
    "  In P. Novais et al. (Eds.), Proceedings of the European Simulation and Modelling Conference - ESM'2011, pp. 117-121, Guimarães, Portugal, October, 2011. EUROSIS."
   ]
  },
  {
   "cell_type": "code",
   "execution_count": 1,
   "metadata": {},
   "outputs": [],
   "source": [
    "import numpy as np\n",
    "import pandas as pd"
   ]
  },
  {
   "cell_type": "code",
   "execution_count": 2,
   "metadata": {},
   "outputs": [],
   "source": [
    "def importData(path, col_to_drop):\n",
    "    # Read Data\n",
    "    data = pd.read_csv(path)\n",
    "    print(f\"Data awal                  : {data.shape}, (#observasi, #fitur)\")\n",
    "\n",
    "    # Drop kolom\n",
    "    data = data.drop(columns = col_to_drop)\n",
    "    print(f\"Data setelah drop kolom    : {data.shape}, (#observasi, #fitur)\")\n",
    "\n",
    "    # Drop duplikat\n",
    "    print(f\"Ada {data.duplicated().sum()} data duplikat\")\n",
    "    data = data.drop_duplicates()\n",
    "    print(f\"Data setelah drop duplikat : {data.shape}, (#observasi, #fitur)\")\n",
    "\n",
    "    return data"
   ]
  },
  {
   "cell_type": "code",
   "execution_count": 3,
   "metadata": {},
   "outputs": [
    {
     "name": "stdout",
     "output_type": "stream",
     "text": [
      "Data awal                  : (45211, 17), (#observasi, #fitur)\n",
      "Data setelah drop kolom    : (45211, 16), (#observasi, #fitur)\n",
      "Ada 0 data duplikat\n",
      "Data setelah drop duplikat : (45211, 16), (#observasi, #fitur)\n"
     ]
    }
   ],
   "source": [
    "filepath = \"bank.csv\"\n",
    "col_to_drop = \"Unnamed: 0\"\n",
    "\n",
    "data = importData(path = filepath,\n",
    "                  col_to_drop = col_to_drop)"
   ]
  },
  {
   "cell_type": "code",
   "execution_count": 4,
   "metadata": {},
   "outputs": [
    {
     "data": {
      "text/html": [
       "<div>\n",
       "<style scoped>\n",
       "    .dataframe tbody tr th:only-of-type {\n",
       "        vertical-align: middle;\n",
       "    }\n",
       "\n",
       "    .dataframe tbody tr th {\n",
       "        vertical-align: top;\n",
       "    }\n",
       "\n",
       "    .dataframe thead th {\n",
       "        text-align: right;\n",
       "    }\n",
       "</style>\n",
       "<table border=\"1\" class=\"dataframe\">\n",
       "  <thead>\n",
       "    <tr style=\"text-align: right;\">\n",
       "      <th></th>\n",
       "      <th>age</th>\n",
       "      <th>job</th>\n",
       "      <th>marital</th>\n",
       "      <th>education</th>\n",
       "      <th>default</th>\n",
       "      <th>balance</th>\n",
       "      <th>housing</th>\n",
       "      <th>loan</th>\n",
       "      <th>contact</th>\n",
       "      <th>day</th>\n",
       "      <th>month</th>\n",
       "      <th>duration</th>\n",
       "      <th>campaign</th>\n",
       "      <th>pdays</th>\n",
       "      <th>previous</th>\n",
       "      <th>poutcome</th>\n",
       "    </tr>\n",
       "  </thead>\n",
       "  <tbody>\n",
       "    <tr>\n",
       "      <th>0</th>\n",
       "      <td>58</td>\n",
       "      <td>management</td>\n",
       "      <td>married</td>\n",
       "      <td>tertiary</td>\n",
       "      <td>no</td>\n",
       "      <td>2143</td>\n",
       "      <td>yes</td>\n",
       "      <td>no</td>\n",
       "      <td>unknown</td>\n",
       "      <td>5</td>\n",
       "      <td>may</td>\n",
       "      <td>261</td>\n",
       "      <td>1</td>\n",
       "      <td>-1</td>\n",
       "      <td>0</td>\n",
       "      <td>unknown</td>\n",
       "    </tr>\n",
       "    <tr>\n",
       "      <th>1</th>\n",
       "      <td>44</td>\n",
       "      <td>technician</td>\n",
       "      <td>single</td>\n",
       "      <td>secondary</td>\n",
       "      <td>no</td>\n",
       "      <td>29</td>\n",
       "      <td>yes</td>\n",
       "      <td>no</td>\n",
       "      <td>unknown</td>\n",
       "      <td>5</td>\n",
       "      <td>may</td>\n",
       "      <td>151</td>\n",
       "      <td>1</td>\n",
       "      <td>-1</td>\n",
       "      <td>0</td>\n",
       "      <td>unknown</td>\n",
       "    </tr>\n",
       "    <tr>\n",
       "      <th>2</th>\n",
       "      <td>33</td>\n",
       "      <td>entrepreneur</td>\n",
       "      <td>married</td>\n",
       "      <td>secondary</td>\n",
       "      <td>no</td>\n",
       "      <td>2</td>\n",
       "      <td>yes</td>\n",
       "      <td>yes</td>\n",
       "      <td>unknown</td>\n",
       "      <td>5</td>\n",
       "      <td>may</td>\n",
       "      <td>76</td>\n",
       "      <td>1</td>\n",
       "      <td>-1</td>\n",
       "      <td>0</td>\n",
       "      <td>unknown</td>\n",
       "    </tr>\n",
       "    <tr>\n",
       "      <th>3</th>\n",
       "      <td>47</td>\n",
       "      <td>blue-collar</td>\n",
       "      <td>married</td>\n",
       "      <td>unknown</td>\n",
       "      <td>no</td>\n",
       "      <td>1506</td>\n",
       "      <td>yes</td>\n",
       "      <td>no</td>\n",
       "      <td>unknown</td>\n",
       "      <td>5</td>\n",
       "      <td>may</td>\n",
       "      <td>92</td>\n",
       "      <td>1</td>\n",
       "      <td>-1</td>\n",
       "      <td>0</td>\n",
       "      <td>unknown</td>\n",
       "    </tr>\n",
       "    <tr>\n",
       "      <th>4</th>\n",
       "      <td>33</td>\n",
       "      <td>unknown</td>\n",
       "      <td>single</td>\n",
       "      <td>unknown</td>\n",
       "      <td>no</td>\n",
       "      <td>1</td>\n",
       "      <td>no</td>\n",
       "      <td>no</td>\n",
       "      <td>unknown</td>\n",
       "      <td>5</td>\n",
       "      <td>may</td>\n",
       "      <td>198</td>\n",
       "      <td>1</td>\n",
       "      <td>-1</td>\n",
       "      <td>0</td>\n",
       "      <td>unknown</td>\n",
       "    </tr>\n",
       "  </tbody>\n",
       "</table>\n",
       "</div>"
      ],
      "text/plain": [
       "   age           job  marital  education default  balance housing loan  \\\n",
       "0   58    management  married   tertiary      no     2143     yes   no   \n",
       "1   44    technician   single  secondary      no       29     yes   no   \n",
       "2   33  entrepreneur  married  secondary      no        2     yes  yes   \n",
       "3   47   blue-collar  married    unknown      no     1506     yes   no   \n",
       "4   33       unknown   single    unknown      no        1      no   no   \n",
       "\n",
       "   contact  day month  duration  campaign  pdays  previous poutcome  \n",
       "0  unknown    5   may       261         1     -1         0  unknown  \n",
       "1  unknown    5   may       151         1     -1         0  unknown  \n",
       "2  unknown    5   may        76         1     -1         0  unknown  \n",
       "3  unknown    5   may        92         1     -1         0  unknown  \n",
       "4  unknown    5   may       198         1     -1         0  unknown  "
      ]
     },
     "execution_count": 4,
     "metadata": {},
     "output_type": "execute_result"
    }
   ],
   "source": [
    "data.head()"
   ]
  },
  {
   "cell_type": "markdown",
   "metadata": {},
   "source": [
    "---\n",
    "### Data Preprocessing"
   ]
  },
  {
   "cell_type": "markdown",
   "metadata": {},
   "source": [
    "#### Train-Test Split\n",
    "\n",
    "Kita tidak pisahkan input-output, karena akan menganalisa struktur data"
   ]
  },
  {
   "cell_type": "code",
   "execution_count": 5,
   "metadata": {},
   "outputs": [],
   "source": [
    "from sklearn.model_selection import train_test_split\n",
    "data_train, data_test = train_test_split(data,\n",
    "                                         test_size = 0.25,\n",
    "                                         random_state = 123)"
   ]
  },
  {
   "cell_type": "code",
   "execution_count": 6,
   "metadata": {},
   "outputs": [
    {
     "name": "stdout",
     "output_type": "stream",
     "text": [
      "(33908, 16)\n",
      "(11303, 16)\n"
     ]
    }
   ],
   "source": [
    "print(data_train.shape)\n",
    "print(data_test.shape)"
   ]
  },
  {
   "cell_type": "markdown",
   "metadata": {},
   "source": [
    "#### Numerical & Categorical Split"
   ]
  },
  {
   "cell_type": "markdown",
   "metadata": {},
   "source": [
    "Mengecek unique value untuk setiap kolom"
   ]
  },
  {
   "cell_type": "code",
   "execution_count": 7,
   "metadata": {},
   "outputs": [
    {
     "name": "stdout",
     "output_type": "stream",
     "text": [
      "col: age, #unique: 76\n",
      "col: job, #unique: 12\n",
      "col: marital, #unique: 3\n",
      "col: education, #unique: 4\n",
      "col: default, #unique: 2\n",
      "col: balance, #unique: 6464\n",
      "col: housing, #unique: 2\n",
      "col: loan, #unique: 2\n",
      "col: contact, #unique: 3\n",
      "col: day, #unique: 31\n",
      "col: month, #unique: 12\n",
      "col: duration, #unique: 1481\n",
      "col: campaign, #unique: 45\n",
      "col: pdays, #unique: 521\n",
      "col: previous, #unique: 37\n",
      "col: poutcome, #unique: 4\n"
     ]
    }
   ],
   "source": [
    "for col in data_train.columns:\n",
    "    print(f\"col: {col}, #unique: {len(data_train[col].unique())}\")"
   ]
  },
  {
   "cell_type": "markdown",
   "metadata": {},
   "source": [
    "Kita anggap `day` dan `month` sebagai numerik dalam latihan ini\n",
    "karena jumlah unique valuenya besar."
   ]
  },
  {
   "cell_type": "code",
   "execution_count": 8,
   "metadata": {},
   "outputs": [
    {
     "name": "stdout",
     "output_type": "stream",
     "text": [
      "['age', 'day', 'month', 'balance', 'duration', 'campaign', 'pdays', 'previous']\n",
      "['housing', 'contact', 'poutcome', 'loan', 'marital', 'education', 'default', 'job']\n"
     ]
    }
   ],
   "source": [
    "num_col = [\"age\", \"day\", \"month\", \"balance\", \n",
    "           \"duration\", \"campaign\", \"pdays\", \"previous\"]\n",
    "cat_col = list(set(data_train.columns) - set(num_col))\n",
    "\n",
    "print(num_col)\n",
    "print(cat_col)"
   ]
  },
  {
   "cell_type": "code",
   "execution_count": 9,
   "metadata": {},
   "outputs": [],
   "source": [
    "def splitNumCat(data, num_col, cat_col):\n",
    "    data_num = data[num_col]\n",
    "    data_cat = data[cat_col]\n",
    "\n",
    "    return data_num, data_cat"
   ]
  },
  {
   "cell_type": "code",
   "execution_count": 10,
   "metadata": {},
   "outputs": [],
   "source": [
    "data_train_num, data_train_cat = splitNumCat(data = data_train,\n",
    "                                             num_col = num_col,\n",
    "                                             cat_col = cat_col)"
   ]
  },
  {
   "cell_type": "code",
   "execution_count": 11,
   "metadata": {},
   "outputs": [
    {
     "data": {
      "text/html": [
       "<div>\n",
       "<style scoped>\n",
       "    .dataframe tbody tr th:only-of-type {\n",
       "        vertical-align: middle;\n",
       "    }\n",
       "\n",
       "    .dataframe tbody tr th {\n",
       "        vertical-align: top;\n",
       "    }\n",
       "\n",
       "    .dataframe thead th {\n",
       "        text-align: right;\n",
       "    }\n",
       "</style>\n",
       "<table border=\"1\" class=\"dataframe\">\n",
       "  <thead>\n",
       "    <tr style=\"text-align: right;\">\n",
       "      <th></th>\n",
       "      <th>age</th>\n",
       "      <th>day</th>\n",
       "      <th>month</th>\n",
       "      <th>balance</th>\n",
       "      <th>duration</th>\n",
       "      <th>campaign</th>\n",
       "      <th>pdays</th>\n",
       "      <th>previous</th>\n",
       "    </tr>\n",
       "  </thead>\n",
       "  <tbody>\n",
       "    <tr>\n",
       "      <th>26999</th>\n",
       "      <td>32</td>\n",
       "      <td>21</td>\n",
       "      <td>nov</td>\n",
       "      <td>2706</td>\n",
       "      <td>462</td>\n",
       "      <td>3</td>\n",
       "      <td>-1</td>\n",
       "      <td>0</td>\n",
       "    </tr>\n",
       "    <tr>\n",
       "      <th>16168</th>\n",
       "      <td>37</td>\n",
       "      <td>22</td>\n",
       "      <td>jul</td>\n",
       "      <td>1396</td>\n",
       "      <td>199</td>\n",
       "      <td>2</td>\n",
       "      <td>-1</td>\n",
       "      <td>0</td>\n",
       "    </tr>\n",
       "    <tr>\n",
       "      <th>12338</th>\n",
       "      <td>22</td>\n",
       "      <td>26</td>\n",
       "      <td>jun</td>\n",
       "      <td>-295</td>\n",
       "      <td>150</td>\n",
       "      <td>2</td>\n",
       "      <td>-1</td>\n",
       "      <td>0</td>\n",
       "    </tr>\n",
       "    <tr>\n",
       "      <th>6074</th>\n",
       "      <td>36</td>\n",
       "      <td>26</td>\n",
       "      <td>may</td>\n",
       "      <td>-870</td>\n",
       "      <td>102</td>\n",
       "      <td>2</td>\n",
       "      <td>-1</td>\n",
       "      <td>0</td>\n",
       "    </tr>\n",
       "    <tr>\n",
       "      <th>7385</th>\n",
       "      <td>50</td>\n",
       "      <td>29</td>\n",
       "      <td>may</td>\n",
       "      <td>429</td>\n",
       "      <td>60</td>\n",
       "      <td>2</td>\n",
       "      <td>-1</td>\n",
       "      <td>0</td>\n",
       "    </tr>\n",
       "  </tbody>\n",
       "</table>\n",
       "</div>"
      ],
      "text/plain": [
       "       age  day month  balance  duration  campaign  pdays  previous\n",
       "26999   32   21   nov     2706       462         3     -1         0\n",
       "16168   37   22   jul     1396       199         2     -1         0\n",
       "12338   22   26   jun     -295       150         2     -1         0\n",
       "6074    36   26   may     -870       102         2     -1         0\n",
       "7385    50   29   may      429        60         2     -1         0"
      ]
     },
     "execution_count": 11,
     "metadata": {},
     "output_type": "execute_result"
    }
   ],
   "source": [
    "data_train_num.head()"
   ]
  },
  {
   "cell_type": "markdown",
   "metadata": {},
   "source": [
    "Fitur `month` perlu di-transform jadi angka"
   ]
  },
  {
   "cell_type": "code",
   "execution_count": 12,
   "metadata": {},
   "outputs": [
    {
     "data": {
      "text/html": [
       "<div>\n",
       "<style scoped>\n",
       "    .dataframe tbody tr th:only-of-type {\n",
       "        vertical-align: middle;\n",
       "    }\n",
       "\n",
       "    .dataframe tbody tr th {\n",
       "        vertical-align: top;\n",
       "    }\n",
       "\n",
       "    .dataframe thead th {\n",
       "        text-align: right;\n",
       "    }\n",
       "</style>\n",
       "<table border=\"1\" class=\"dataframe\">\n",
       "  <thead>\n",
       "    <tr style=\"text-align: right;\">\n",
       "      <th></th>\n",
       "      <th>housing</th>\n",
       "      <th>contact</th>\n",
       "      <th>poutcome</th>\n",
       "      <th>loan</th>\n",
       "      <th>marital</th>\n",
       "      <th>education</th>\n",
       "      <th>default</th>\n",
       "      <th>job</th>\n",
       "    </tr>\n",
       "  </thead>\n",
       "  <tbody>\n",
       "    <tr>\n",
       "      <th>26999</th>\n",
       "      <td>no</td>\n",
       "      <td>cellular</td>\n",
       "      <td>unknown</td>\n",
       "      <td>no</td>\n",
       "      <td>single</td>\n",
       "      <td>secondary</td>\n",
       "      <td>no</td>\n",
       "      <td>unemployed</td>\n",
       "    </tr>\n",
       "    <tr>\n",
       "      <th>16168</th>\n",
       "      <td>yes</td>\n",
       "      <td>cellular</td>\n",
       "      <td>unknown</td>\n",
       "      <td>no</td>\n",
       "      <td>married</td>\n",
       "      <td>secondary</td>\n",
       "      <td>no</td>\n",
       "      <td>admin.</td>\n",
       "    </tr>\n",
       "    <tr>\n",
       "      <th>12338</th>\n",
       "      <td>yes</td>\n",
       "      <td>unknown</td>\n",
       "      <td>unknown</td>\n",
       "      <td>no</td>\n",
       "      <td>married</td>\n",
       "      <td>secondary</td>\n",
       "      <td>no</td>\n",
       "      <td>blue-collar</td>\n",
       "    </tr>\n",
       "    <tr>\n",
       "      <th>6074</th>\n",
       "      <td>yes</td>\n",
       "      <td>unknown</td>\n",
       "      <td>unknown</td>\n",
       "      <td>no</td>\n",
       "      <td>married</td>\n",
       "      <td>secondary</td>\n",
       "      <td>no</td>\n",
       "      <td>blue-collar</td>\n",
       "    </tr>\n",
       "    <tr>\n",
       "      <th>7385</th>\n",
       "      <td>no</td>\n",
       "      <td>unknown</td>\n",
       "      <td>unknown</td>\n",
       "      <td>no</td>\n",
       "      <td>married</td>\n",
       "      <td>primary</td>\n",
       "      <td>no</td>\n",
       "      <td>admin.</td>\n",
       "    </tr>\n",
       "  </tbody>\n",
       "</table>\n",
       "</div>"
      ],
      "text/plain": [
       "      housing   contact poutcome loan  marital  education default          job\n",
       "26999      no  cellular  unknown   no   single  secondary      no   unemployed\n",
       "16168     yes  cellular  unknown   no  married  secondary      no       admin.\n",
       "12338     yes   unknown  unknown   no  married  secondary      no  blue-collar\n",
       "6074      yes   unknown  unknown   no  married  secondary      no  blue-collar\n",
       "7385       no   unknown  unknown   no  married    primary      no       admin."
      ]
     },
     "execution_count": 12,
     "metadata": {},
     "output_type": "execute_result"
    }
   ],
   "source": [
    "data_train_cat.head()"
   ]
  },
  {
   "cell_type": "markdown",
   "metadata": {},
   "source": [
    "#### Handling Data - Impute & Standardize\n",
    "**Transform** - fitur `month`"
   ]
  },
  {
   "cell_type": "code",
   "execution_count": 13,
   "metadata": {},
   "outputs": [],
   "source": [
    "def transformMonth(data):\n",
    "    month_list = [\"jan\", \"feb\", \"mar\", \"apr\", \"may\", \"jun\",\n",
    "                  \"jul\", \"aug\", \"sep\", \"oct\", \"nov\", \"dec\"]\n",
    "    number_list = [i+1 for i in range(len(month_list))]\n",
    "\n",
    "    data[\"month\"] = data[\"month\"].replace(month_list, number_list)\n",
    "\n",
    "    return data"
   ]
  },
  {
   "cell_type": "code",
   "execution_count": 14,
   "metadata": {},
   "outputs": [
    {
     "name": "stderr",
     "output_type": "stream",
     "text": [
      "C:\\Users\\Lenovo\\AppData\\Local\\Temp\\ipykernel_3028\\831587528.py:6: SettingWithCopyWarning: \n",
      "A value is trying to be set on a copy of a slice from a DataFrame.\n",
      "Try using .loc[row_indexer,col_indexer] = value instead\n",
      "\n",
      "See the caveats in the documentation: https://pandas.pydata.org/pandas-docs/stable/user_guide/indexing.html#returning-a-view-versus-a-copy\n",
      "  data[\"month\"] = data[\"month\"].replace(month_list, number_list)\n"
     ]
    }
   ],
   "source": [
    "data_train_num = transformMonth(data = data_train_num)"
   ]
  },
  {
   "cell_type": "code",
   "execution_count": 15,
   "metadata": {},
   "outputs": [
    {
     "data": {
      "text/html": [
       "<div>\n",
       "<style scoped>\n",
       "    .dataframe tbody tr th:only-of-type {\n",
       "        vertical-align: middle;\n",
       "    }\n",
       "\n",
       "    .dataframe tbody tr th {\n",
       "        vertical-align: top;\n",
       "    }\n",
       "\n",
       "    .dataframe thead th {\n",
       "        text-align: right;\n",
       "    }\n",
       "</style>\n",
       "<table border=\"1\" class=\"dataframe\">\n",
       "  <thead>\n",
       "    <tr style=\"text-align: right;\">\n",
       "      <th></th>\n",
       "      <th>age</th>\n",
       "      <th>day</th>\n",
       "      <th>month</th>\n",
       "      <th>balance</th>\n",
       "      <th>duration</th>\n",
       "      <th>campaign</th>\n",
       "      <th>pdays</th>\n",
       "      <th>previous</th>\n",
       "    </tr>\n",
       "  </thead>\n",
       "  <tbody>\n",
       "    <tr>\n",
       "      <th>26999</th>\n",
       "      <td>32</td>\n",
       "      <td>21</td>\n",
       "      <td>11</td>\n",
       "      <td>2706</td>\n",
       "      <td>462</td>\n",
       "      <td>3</td>\n",
       "      <td>-1</td>\n",
       "      <td>0</td>\n",
       "    </tr>\n",
       "    <tr>\n",
       "      <th>16168</th>\n",
       "      <td>37</td>\n",
       "      <td>22</td>\n",
       "      <td>7</td>\n",
       "      <td>1396</td>\n",
       "      <td>199</td>\n",
       "      <td>2</td>\n",
       "      <td>-1</td>\n",
       "      <td>0</td>\n",
       "    </tr>\n",
       "    <tr>\n",
       "      <th>12338</th>\n",
       "      <td>22</td>\n",
       "      <td>26</td>\n",
       "      <td>6</td>\n",
       "      <td>-295</td>\n",
       "      <td>150</td>\n",
       "      <td>2</td>\n",
       "      <td>-1</td>\n",
       "      <td>0</td>\n",
       "    </tr>\n",
       "    <tr>\n",
       "      <th>6074</th>\n",
       "      <td>36</td>\n",
       "      <td>26</td>\n",
       "      <td>5</td>\n",
       "      <td>-870</td>\n",
       "      <td>102</td>\n",
       "      <td>2</td>\n",
       "      <td>-1</td>\n",
       "      <td>0</td>\n",
       "    </tr>\n",
       "    <tr>\n",
       "      <th>7385</th>\n",
       "      <td>50</td>\n",
       "      <td>29</td>\n",
       "      <td>5</td>\n",
       "      <td>429</td>\n",
       "      <td>60</td>\n",
       "      <td>2</td>\n",
       "      <td>-1</td>\n",
       "      <td>0</td>\n",
       "    </tr>\n",
       "  </tbody>\n",
       "</table>\n",
       "</div>"
      ],
      "text/plain": [
       "       age  day  month  balance  duration  campaign  pdays  previous\n",
       "26999   32   21     11     2706       462         3     -1         0\n",
       "16168   37   22      7     1396       199         2     -1         0\n",
       "12338   22   26      6     -295       150         2     -1         0\n",
       "6074    36   26      5     -870       102         2     -1         0\n",
       "7385    50   29      5      429        60         2     -1         0"
      ]
     },
     "execution_count": 15,
     "metadata": {},
     "output_type": "execute_result"
    }
   ],
   "source": [
    "data_train_num.head()"
   ]
  },
  {
   "cell_type": "markdown",
   "metadata": {},
   "source": [
    "**Missing Values** - Numerical"
   ]
  },
  {
   "cell_type": "code",
   "execution_count": 16,
   "metadata": {},
   "outputs": [
    {
     "data": {
      "text/plain": [
       "age         False\n",
       "day         False\n",
       "month       False\n",
       "balance     False\n",
       "duration    False\n",
       "campaign    False\n",
       "pdays       False\n",
       "previous    False\n",
       "dtype: bool"
      ]
     },
     "execution_count": 16,
     "metadata": {},
     "output_type": "execute_result"
    }
   ],
   "source": [
    "# Cek missing value\n",
    "data_train_num.isna().any()"
   ]
  },
  {
   "cell_type": "code",
   "execution_count": 17,
   "metadata": {},
   "outputs": [],
   "source": [
    "# Buat imputer, kalau-kalau ada yang butuh di data test\n",
    "from sklearn.impute import SimpleImputer\n",
    "\n",
    "def imputerNumeric(data, imputer = None):\n",
    "    if imputer == None:\n",
    "        # Buat imputer\n",
    "        imputer = SimpleImputer(missing_values = np.nan,\n",
    "                                strategy = \"median\")\n",
    "        imputer.fit(data)\n",
    "\n",
    "    # Transform data\n",
    "    data_imputed = imputer.transform(data)\n",
    "    data_imputed = pd.DataFrame(data = data_imputed,\n",
    "                                columns = data.columns,\n",
    "                                index = data.index)\n",
    "    \n",
    "    return data_imputed, imputer\n"
   ]
  },
  {
   "cell_type": "code",
   "execution_count": 18,
   "metadata": {},
   "outputs": [],
   "source": [
    "data_train_num_imputed, num_imputer = imputerNumeric(data = data_train_num)"
   ]
  },
  {
   "cell_type": "code",
   "execution_count": 19,
   "metadata": {},
   "outputs": [
    {
     "data": {
      "text/html": [
       "<div>\n",
       "<style scoped>\n",
       "    .dataframe tbody tr th:only-of-type {\n",
       "        vertical-align: middle;\n",
       "    }\n",
       "\n",
       "    .dataframe tbody tr th {\n",
       "        vertical-align: top;\n",
       "    }\n",
       "\n",
       "    .dataframe thead th {\n",
       "        text-align: right;\n",
       "    }\n",
       "</style>\n",
       "<table border=\"1\" class=\"dataframe\">\n",
       "  <thead>\n",
       "    <tr style=\"text-align: right;\">\n",
       "      <th></th>\n",
       "      <th>age</th>\n",
       "      <th>day</th>\n",
       "      <th>month</th>\n",
       "      <th>balance</th>\n",
       "      <th>duration</th>\n",
       "      <th>campaign</th>\n",
       "      <th>pdays</th>\n",
       "      <th>previous</th>\n",
       "    </tr>\n",
       "  </thead>\n",
       "  <tbody>\n",
       "    <tr>\n",
       "      <th>26999</th>\n",
       "      <td>32.0</td>\n",
       "      <td>21.0</td>\n",
       "      <td>11.0</td>\n",
       "      <td>2706.0</td>\n",
       "      <td>462.0</td>\n",
       "      <td>3.0</td>\n",
       "      <td>-1.0</td>\n",
       "      <td>0.0</td>\n",
       "    </tr>\n",
       "    <tr>\n",
       "      <th>16168</th>\n",
       "      <td>37.0</td>\n",
       "      <td>22.0</td>\n",
       "      <td>7.0</td>\n",
       "      <td>1396.0</td>\n",
       "      <td>199.0</td>\n",
       "      <td>2.0</td>\n",
       "      <td>-1.0</td>\n",
       "      <td>0.0</td>\n",
       "    </tr>\n",
       "    <tr>\n",
       "      <th>12338</th>\n",
       "      <td>22.0</td>\n",
       "      <td>26.0</td>\n",
       "      <td>6.0</td>\n",
       "      <td>-295.0</td>\n",
       "      <td>150.0</td>\n",
       "      <td>2.0</td>\n",
       "      <td>-1.0</td>\n",
       "      <td>0.0</td>\n",
       "    </tr>\n",
       "    <tr>\n",
       "      <th>6074</th>\n",
       "      <td>36.0</td>\n",
       "      <td>26.0</td>\n",
       "      <td>5.0</td>\n",
       "      <td>-870.0</td>\n",
       "      <td>102.0</td>\n",
       "      <td>2.0</td>\n",
       "      <td>-1.0</td>\n",
       "      <td>0.0</td>\n",
       "    </tr>\n",
       "    <tr>\n",
       "      <th>7385</th>\n",
       "      <td>50.0</td>\n",
       "      <td>29.0</td>\n",
       "      <td>5.0</td>\n",
       "      <td>429.0</td>\n",
       "      <td>60.0</td>\n",
       "      <td>2.0</td>\n",
       "      <td>-1.0</td>\n",
       "      <td>0.0</td>\n",
       "    </tr>\n",
       "  </tbody>\n",
       "</table>\n",
       "</div>"
      ],
      "text/plain": [
       "        age   day  month  balance  duration  campaign  pdays  previous\n",
       "26999  32.0  21.0   11.0   2706.0     462.0       3.0   -1.0       0.0\n",
       "16168  37.0  22.0    7.0   1396.0     199.0       2.0   -1.0       0.0\n",
       "12338  22.0  26.0    6.0   -295.0     150.0       2.0   -1.0       0.0\n",
       "6074   36.0  26.0    5.0   -870.0     102.0       2.0   -1.0       0.0\n",
       "7385   50.0  29.0    5.0    429.0      60.0       2.0   -1.0       0.0"
      ]
     },
     "execution_count": 19,
     "metadata": {},
     "output_type": "execute_result"
    }
   ],
   "source": [
    "data_train_num_imputed.head()"
   ]
  },
  {
   "cell_type": "markdown",
   "metadata": {},
   "source": [
    "**Standardizing** - Numerical"
   ]
  },
  {
   "cell_type": "code",
   "execution_count": 20,
   "metadata": {},
   "outputs": [],
   "source": [
    "from sklearn.preprocessing import StandardScaler\n",
    "\n",
    "# Buat scaler\n",
    "def fitStandardize(data):\n",
    "    scaler = StandardScaler()\n",
    "    scaler.fit(data)\n",
    "\n",
    "    return scaler\n",
    "\n",
    "# Transform scaler\n",
    "def transformStandardize(data, scaler):\n",
    "    data_scaled = scaler.transform(data)\n",
    "    data_scaled = pd.DataFrame(data = data_scaled,\n",
    "                               columns = data.columns,\n",
    "                               index = data.index)\n",
    "    \n",
    "    return data_scaled\n"
   ]
  },
  {
   "cell_type": "code",
   "execution_count": 21,
   "metadata": {},
   "outputs": [],
   "source": [
    "# Cari scaler\n",
    "num_scaler = fitStandardize(data = data_train_num_imputed)\n",
    "\n",
    "# Transform data\n",
    "data_train_num_clean = transformStandardize(data = data_train_num_imputed,\n",
    "                                            scaler = num_scaler)"
   ]
  },
  {
   "cell_type": "code",
   "execution_count": 22,
   "metadata": {},
   "outputs": [
    {
     "data": {
      "text/html": [
       "<div>\n",
       "<style scoped>\n",
       "    .dataframe tbody tr th:only-of-type {\n",
       "        vertical-align: middle;\n",
       "    }\n",
       "\n",
       "    .dataframe tbody tr th {\n",
       "        vertical-align: top;\n",
       "    }\n",
       "\n",
       "    .dataframe thead th {\n",
       "        text-align: right;\n",
       "    }\n",
       "</style>\n",
       "<table border=\"1\" class=\"dataframe\">\n",
       "  <thead>\n",
       "    <tr style=\"text-align: right;\">\n",
       "      <th></th>\n",
       "      <th>age</th>\n",
       "      <th>day</th>\n",
       "      <th>month</th>\n",
       "      <th>balance</th>\n",
       "      <th>duration</th>\n",
       "      <th>campaign</th>\n",
       "      <th>pdays</th>\n",
       "      <th>previous</th>\n",
       "    </tr>\n",
       "  </thead>\n",
       "  <tbody>\n",
       "    <tr>\n",
       "      <th>26999</th>\n",
       "      <td>-0.844906</td>\n",
       "      <td>0.626379</td>\n",
       "      <td>2.024176</td>\n",
       "      <td>0.440092</td>\n",
       "      <td>0.779886</td>\n",
       "      <td>0.077638</td>\n",
       "      <td>-0.411528</td>\n",
       "      <td>-0.242719</td>\n",
       "    </tr>\n",
       "    <tr>\n",
       "      <th>16168</th>\n",
       "      <td>-0.373530</td>\n",
       "      <td>0.746689</td>\n",
       "      <td>0.358937</td>\n",
       "      <td>0.006577</td>\n",
       "      <td>-0.231883</td>\n",
       "      <td>-0.246209</td>\n",
       "      <td>-0.411528</td>\n",
       "      <td>-0.242719</td>\n",
       "    </tr>\n",
       "    <tr>\n",
       "      <th>12338</th>\n",
       "      <td>-1.787657</td>\n",
       "      <td>1.227931</td>\n",
       "      <td>-0.057373</td>\n",
       "      <td>-0.553021</td>\n",
       "      <td>-0.420387</td>\n",
       "      <td>-0.246209</td>\n",
       "      <td>-0.411528</td>\n",
       "      <td>-0.242719</td>\n",
       "    </tr>\n",
       "    <tr>\n",
       "      <th>6074</th>\n",
       "      <td>-0.467806</td>\n",
       "      <td>1.227931</td>\n",
       "      <td>-0.473683</td>\n",
       "      <td>-0.743304</td>\n",
       "      <td>-0.605045</td>\n",
       "      <td>-0.246209</td>\n",
       "      <td>-0.411528</td>\n",
       "      <td>-0.242719</td>\n",
       "    </tr>\n",
       "    <tr>\n",
       "      <th>7385</th>\n",
       "      <td>0.852046</td>\n",
       "      <td>1.588862</td>\n",
       "      <td>-0.473683</td>\n",
       "      <td>-0.313430</td>\n",
       "      <td>-0.766620</td>\n",
       "      <td>-0.246209</td>\n",
       "      <td>-0.411528</td>\n",
       "      <td>-0.242719</td>\n",
       "    </tr>\n",
       "  </tbody>\n",
       "</table>\n",
       "</div>"
      ],
      "text/plain": [
       "            age       day     month   balance  duration  campaign     pdays  \\\n",
       "26999 -0.844906  0.626379  2.024176  0.440092  0.779886  0.077638 -0.411528   \n",
       "16168 -0.373530  0.746689  0.358937  0.006577 -0.231883 -0.246209 -0.411528   \n",
       "12338 -1.787657  1.227931 -0.057373 -0.553021 -0.420387 -0.246209 -0.411528   \n",
       "6074  -0.467806  1.227931 -0.473683 -0.743304 -0.605045 -0.246209 -0.411528   \n",
       "7385   0.852046  1.588862 -0.473683 -0.313430 -0.766620 -0.246209 -0.411528   \n",
       "\n",
       "       previous  \n",
       "26999 -0.242719  \n",
       "16168 -0.242719  \n",
       "12338 -0.242719  \n",
       "6074  -0.242719  \n",
       "7385  -0.242719  "
      ]
     },
     "execution_count": 22,
     "metadata": {},
     "output_type": "execute_result"
    }
   ],
   "source": [
    "data_train_num_clean.head()"
   ]
  },
  {
   "cell_type": "markdown",
   "metadata": {},
   "source": [
    "### Handling Data - PCA (Dimensionality Reduction)"
   ]
  },
  {
   "cell_type": "markdown",
   "metadata": {},
   "source": [
    "**Goal**: represent data in fewer dimensions"
   ]
  },
  {
   "cell_type": "code",
   "execution_count": 23,
   "metadata": {},
   "outputs": [
    {
     "data": {
      "text/html": [
       "<style>#sk-container-id-1 {color: black;}#sk-container-id-1 pre{padding: 0;}#sk-container-id-1 div.sk-toggleable {background-color: white;}#sk-container-id-1 label.sk-toggleable__label {cursor: pointer;display: block;width: 100%;margin-bottom: 0;padding: 0.3em;box-sizing: border-box;text-align: center;}#sk-container-id-1 label.sk-toggleable__label-arrow:before {content: \"▸\";float: left;margin-right: 0.25em;color: #696969;}#sk-container-id-1 label.sk-toggleable__label-arrow:hover:before {color: black;}#sk-container-id-1 div.sk-estimator:hover label.sk-toggleable__label-arrow:before {color: black;}#sk-container-id-1 div.sk-toggleable__content {max-height: 0;max-width: 0;overflow: hidden;text-align: left;background-color: #f0f8ff;}#sk-container-id-1 div.sk-toggleable__content pre {margin: 0.2em;color: black;border-radius: 0.25em;background-color: #f0f8ff;}#sk-container-id-1 input.sk-toggleable__control:checked~div.sk-toggleable__content {max-height: 200px;max-width: 100%;overflow: auto;}#sk-container-id-1 input.sk-toggleable__control:checked~label.sk-toggleable__label-arrow:before {content: \"▾\";}#sk-container-id-1 div.sk-estimator input.sk-toggleable__control:checked~label.sk-toggleable__label {background-color: #d4ebff;}#sk-container-id-1 div.sk-label input.sk-toggleable__control:checked~label.sk-toggleable__label {background-color: #d4ebff;}#sk-container-id-1 input.sk-hidden--visually {border: 0;clip: rect(1px 1px 1px 1px);clip: rect(1px, 1px, 1px, 1px);height: 1px;margin: -1px;overflow: hidden;padding: 0;position: absolute;width: 1px;}#sk-container-id-1 div.sk-estimator {font-family: monospace;background-color: #f0f8ff;border: 1px dotted black;border-radius: 0.25em;box-sizing: border-box;margin-bottom: 0.5em;}#sk-container-id-1 div.sk-estimator:hover {background-color: #d4ebff;}#sk-container-id-1 div.sk-parallel-item::after {content: \"\";width: 100%;border-bottom: 1px solid gray;flex-grow: 1;}#sk-container-id-1 div.sk-label:hover label.sk-toggleable__label {background-color: #d4ebff;}#sk-container-id-1 div.sk-serial::before {content: \"\";position: absolute;border-left: 1px solid gray;box-sizing: border-box;top: 0;bottom: 0;left: 50%;z-index: 0;}#sk-container-id-1 div.sk-serial {display: flex;flex-direction: column;align-items: center;background-color: white;padding-right: 0.2em;padding-left: 0.2em;position: relative;}#sk-container-id-1 div.sk-item {position: relative;z-index: 1;}#sk-container-id-1 div.sk-parallel {display: flex;align-items: stretch;justify-content: center;background-color: white;position: relative;}#sk-container-id-1 div.sk-item::before, #sk-container-id-1 div.sk-parallel-item::before {content: \"\";position: absolute;border-left: 1px solid gray;box-sizing: border-box;top: 0;bottom: 0;left: 50%;z-index: -1;}#sk-container-id-1 div.sk-parallel-item {display: flex;flex-direction: column;z-index: 1;position: relative;background-color: white;}#sk-container-id-1 div.sk-parallel-item:first-child::after {align-self: flex-end;width: 50%;}#sk-container-id-1 div.sk-parallel-item:last-child::after {align-self: flex-start;width: 50%;}#sk-container-id-1 div.sk-parallel-item:only-child::after {width: 0;}#sk-container-id-1 div.sk-dashed-wrapped {border: 1px dashed gray;margin: 0 0.4em 0.5em 0.4em;box-sizing: border-box;padding-bottom: 0.4em;background-color: white;}#sk-container-id-1 div.sk-label label {font-family: monospace;font-weight: bold;display: inline-block;line-height: 1.2em;}#sk-container-id-1 div.sk-label-container {text-align: center;}#sk-container-id-1 div.sk-container {/* jupyter's `normalize.less` sets `[hidden] { display: none; }` but bootstrap.min.css set `[hidden] { display: none !important; }` so we also need the `!important` here to be able to override the default hidden behavior on the sphinx rendered scikit-learn.org. See: https://github.com/scikit-learn/scikit-learn/issues/21755 */display: inline-block !important;position: relative;}#sk-container-id-1 div.sk-text-repr-fallback {display: none;}</style><div id=\"sk-container-id-1\" class=\"sk-top-container\"><div class=\"sk-text-repr-fallback\"><pre>PCA(random_state=123)</pre><b>In a Jupyter environment, please rerun this cell to show the HTML representation or trust the notebook. <br />On GitHub, the HTML representation is unable to render, please try loading this page with nbviewer.org.</b></div><div class=\"sk-container\" hidden><div class=\"sk-item\"><div class=\"sk-estimator sk-toggleable\"><input class=\"sk-toggleable__control sk-hidden--visually\" id=\"sk-estimator-id-1\" type=\"checkbox\" checked><label for=\"sk-estimator-id-1\" class=\"sk-toggleable__label sk-toggleable__label-arrow\">PCA</label><div class=\"sk-toggleable__content\"><pre>PCA(random_state=123)</pre></div></div></div></div></div>"
      ],
      "text/plain": [
       "PCA(random_state=123)"
      ]
     },
     "execution_count": 23,
     "metadata": {},
     "output_type": "execute_result"
    }
   ],
   "source": [
    "# Import package PCA - Sklearn\n",
    "from sklearn.decomposition import PCA\n",
    "\n",
    "# Define PCA with random state\n",
    "pca_obj = PCA(random_state = 123)\n",
    "\n",
    "# Fit to data_train_num_clean\n",
    "pca_obj.fit(data_train_num_clean)"
   ]
  },
  {
   "cell_type": "code",
   "execution_count": 24,
   "metadata": {},
   "outputs": [
    {
     "data": {
      "text/html": [
       "<div>\n",
       "<style scoped>\n",
       "    .dataframe tbody tr th:only-of-type {\n",
       "        vertical-align: middle;\n",
       "    }\n",
       "\n",
       "    .dataframe tbody tr th {\n",
       "        vertical-align: top;\n",
       "    }\n",
       "\n",
       "    .dataframe thead th {\n",
       "        text-align: right;\n",
       "    }\n",
       "</style>\n",
       "<table border=\"1\" class=\"dataframe\">\n",
       "  <thead>\n",
       "    <tr style=\"text-align: right;\">\n",
       "      <th></th>\n",
       "      <th>age</th>\n",
       "      <th>day</th>\n",
       "      <th>month</th>\n",
       "      <th>balance</th>\n",
       "      <th>duration</th>\n",
       "      <th>campaign</th>\n",
       "      <th>pdays</th>\n",
       "      <th>previous</th>\n",
       "    </tr>\n",
       "  </thead>\n",
       "  <tbody>\n",
       "    <tr>\n",
       "      <th>0</th>\n",
       "      <td>-0.069772</td>\n",
       "      <td>-0.300405</td>\n",
       "      <td>-0.271369</td>\n",
       "      <td>-0.031820</td>\n",
       "      <td>0.059091</td>\n",
       "      <td>-0.266862</td>\n",
       "      <td>0.639239</td>\n",
       "      <td>0.588984</td>\n",
       "    </tr>\n",
       "    <tr>\n",
       "      <th>1</th>\n",
       "      <td>0.442293</td>\n",
       "      <td>0.297602</td>\n",
       "      <td>0.485049</td>\n",
       "      <td>0.480265</td>\n",
       "      <td>-0.128529</td>\n",
       "      <td>0.257602</td>\n",
       "      <td>0.220141</td>\n",
       "      <td>0.344300</td>\n",
       "    </tr>\n",
       "    <tr>\n",
       "      <th>2</th>\n",
       "      <td>-0.360480</td>\n",
       "      <td>0.410899</td>\n",
       "      <td>-0.142899</td>\n",
       "      <td>-0.390580</td>\n",
       "      <td>-0.419306</td>\n",
       "      <td>0.538353</td>\n",
       "      <td>0.159648</td>\n",
       "      <td>0.192650</td>\n",
       "    </tr>\n",
       "    <tr>\n",
       "      <th>3</th>\n",
       "      <td>-0.374714</td>\n",
       "      <td>0.419159</td>\n",
       "      <td>0.148437</td>\n",
       "      <td>0.015518</td>\n",
       "      <td>0.801606</td>\n",
       "      <td>0.045387</td>\n",
       "      <td>0.056493</td>\n",
       "      <td>0.117457</td>\n",
       "    </tr>\n",
       "    <tr>\n",
       "      <th>4</th>\n",
       "      <td>-0.690436</td>\n",
       "      <td>-0.027622</td>\n",
       "      <td>0.117620</td>\n",
       "      <td>0.601584</td>\n",
       "      <td>-0.321183</td>\n",
       "      <td>-0.200227</td>\n",
       "      <td>-0.007981</td>\n",
       "      <td>-0.059021</td>\n",
       "    </tr>\n",
       "    <tr>\n",
       "      <th>5</th>\n",
       "      <td>0.138927</td>\n",
       "      <td>0.066414</td>\n",
       "      <td>-0.746403</td>\n",
       "      <td>0.503089</td>\n",
       "      <td>0.152494</td>\n",
       "      <td>0.366869</td>\n",
       "      <td>-0.026452</td>\n",
       "      <td>-0.086753</td>\n",
       "    </tr>\n",
       "    <tr>\n",
       "      <th>6</th>\n",
       "      <td>-0.180314</td>\n",
       "      <td>-0.686298</td>\n",
       "      <td>0.260422</td>\n",
       "      <td>0.022065</td>\n",
       "      <td>0.185509</td>\n",
       "      <td>0.624547</td>\n",
       "      <td>-0.033671</td>\n",
       "      <td>0.050689</td>\n",
       "    </tr>\n",
       "    <tr>\n",
       "      <th>7</th>\n",
       "      <td>-0.025212</td>\n",
       "      <td>-0.021885</td>\n",
       "      <td>-0.099308</td>\n",
       "      <td>0.007061</td>\n",
       "      <td>-0.027794</td>\n",
       "      <td>-0.076148</td>\n",
       "      <td>-0.715776</td>\n",
       "      <td>0.685614</td>\n",
       "    </tr>\n",
       "  </tbody>\n",
       "</table>\n",
       "</div>"
      ],
      "text/plain": [
       "        age       day     month   balance  duration  campaign     pdays  \\\n",
       "0 -0.069772 -0.300405 -0.271369 -0.031820  0.059091 -0.266862  0.639239   \n",
       "1  0.442293  0.297602  0.485049  0.480265 -0.128529  0.257602  0.220141   \n",
       "2 -0.360480  0.410899 -0.142899 -0.390580 -0.419306  0.538353  0.159648   \n",
       "3 -0.374714  0.419159  0.148437  0.015518  0.801606  0.045387  0.056493   \n",
       "4 -0.690436 -0.027622  0.117620  0.601584 -0.321183 -0.200227 -0.007981   \n",
       "5  0.138927  0.066414 -0.746403  0.503089  0.152494  0.366869 -0.026452   \n",
       "6 -0.180314 -0.686298  0.260422  0.022065  0.185509  0.624547 -0.033671   \n",
       "7 -0.025212 -0.021885 -0.099308  0.007061 -0.027794 -0.076148 -0.715776   \n",
       "\n",
       "   previous  \n",
       "0  0.588984  \n",
       "1  0.344300  \n",
       "2  0.192650  \n",
       "3  0.117457  \n",
       "4 -0.059021  \n",
       "5 -0.086753  \n",
       "6  0.050689  \n",
       "7  0.685614  "
      ]
     },
     "execution_count": 24,
     "metadata": {},
     "output_type": "execute_result"
    }
   ],
   "source": [
    "# Show PCA Component\n",
    "pca_component = pca_obj.components_\n",
    "\n",
    "# Turn to dataframe\n",
    "pca_component = pd.DataFrame(data = pca_component,\n",
    "                             columns = data_train_num_clean.columns)\n",
    "pca_component"
   ]
  },
  {
   "cell_type": "code",
   "execution_count": 25,
   "metadata": {},
   "outputs": [
    {
     "data": {
      "text/plain": [
       "array([1.53187704, 1.19523565, 1.15590508, 0.98118651, 0.89585695,\n",
       "       0.87547251, 0.81436845, 0.55033375])"
      ]
     },
     "execution_count": 25,
     "metadata": {},
     "output_type": "execute_result"
    }
   ],
   "source": [
    "# Explained variance\n",
    "pca_obj.explained_variance_"
   ]
  },
  {
   "cell_type": "code",
   "execution_count": 26,
   "metadata": {},
   "outputs": [
    {
     "data": {
      "text/plain": [
       "array([0.19147898, 0.14940005, 0.14448387, 0.1226447 , 0.11197882,\n",
       "       0.10943084, 0.10179305, 0.06878969])"
      ]
     },
     "execution_count": 26,
     "metadata": {},
     "output_type": "execute_result"
    }
   ],
   "source": [
    "# Explained variance ratio\n",
    "pca_obj.explained_variance_ratio_"
   ]
  },
  {
   "cell_type": "markdown",
   "metadata": {},
   "source": [
    "bisa dilihat,\n",
    "\n",
    "PC 1 adalah baris pertama pada dataframe `pca_component`\n",
    "\n",
    "PC 1 menjelaskan 19.3% variasi data"
   ]
  },
  {
   "cell_type": "markdown",
   "metadata": {},
   "source": [
    "*transform data dengan principal component*"
   ]
  },
  {
   "cell_type": "code",
   "execution_count": 27,
   "metadata": {},
   "outputs": [
    {
     "data": {
      "text/html": [
       "<div>\n",
       "<style scoped>\n",
       "    .dataframe tbody tr th:only-of-type {\n",
       "        vertical-align: middle;\n",
       "    }\n",
       "\n",
       "    .dataframe tbody tr th {\n",
       "        vertical-align: top;\n",
       "    }\n",
       "\n",
       "    .dataframe thead th {\n",
       "        text-align: right;\n",
       "    }\n",
       "</style>\n",
       "<table border=\"1\" class=\"dataframe\">\n",
       "  <thead>\n",
       "    <tr style=\"text-align: right;\">\n",
       "      <th></th>\n",
       "      <th>PC_1</th>\n",
       "      <th>PC_2</th>\n",
       "      <th>PC_3</th>\n",
       "      <th>PC_4</th>\n",
       "      <th>PC_5</th>\n",
       "      <th>PC_6</th>\n",
       "      <th>PC_7</th>\n",
       "      <th>PC_8</th>\n",
       "    </tr>\n",
       "  </thead>\n",
       "  <tbody>\n",
       "    <tr>\n",
       "      <th>26999</th>\n",
       "      <td>-1.073176</td>\n",
       "      <td>0.751500</td>\n",
       "      <td>-0.296867</td>\n",
       "      <td>1.463372</td>\n",
       "      <td>0.820467</td>\n",
       "      <td>-1.185871</td>\n",
       "      <td>0.454034</td>\n",
       "      <td>-0.089753</td>\n",
       "    </tr>\n",
       "    <tr>\n",
       "      <th>16168</th>\n",
       "      <td>-0.649881</td>\n",
       "      <td>0.026484</td>\n",
       "      <td>0.239826</td>\n",
       "      <td>0.257520</td>\n",
       "      <td>0.424834</td>\n",
       "      <td>-0.360650</td>\n",
       "      <td>-0.546710</td>\n",
       "      <td>0.110821</td>\n",
       "    </tr>\n",
       "    <tr>\n",
       "      <th>12338</th>\n",
       "      <td>-0.576140</td>\n",
       "      <td>-0.902214</td>\n",
       "      <td>1.304431</td>\n",
       "      <td>0.767544</td>\n",
       "      <td>1.062838</td>\n",
       "      <td>-0.524688</td>\n",
       "      <td>-0.777732</td>\n",
       "      <td>0.178573</td>\n",
       "    </tr>\n",
       "    <tr>\n",
       "      <th>6074</th>\n",
       "      <td>-0.560112</td>\n",
       "      <td>-0.588036</td>\n",
       "      <td>1.039891</td>\n",
       "      <td>0.060206</td>\n",
       "      <td>0.047435</td>\n",
       "      <td>-0.154479</td>\n",
       "      <td>-1.162590</td>\n",
       "      <td>0.190428</td>\n",
       "    </tr>\n",
       "    <tr>\n",
       "      <th>7385</th>\n",
       "      <td>-0.783853</td>\n",
       "      <td>0.330361</td>\n",
       "      <td>0.612266</td>\n",
       "      <td>-0.405923</td>\n",
       "      <td>-0.563307</td>\n",
       "      <td>0.244481</td>\n",
       "      <td>-1.668772</td>\n",
       "      <td>0.156780</td>\n",
       "    </tr>\n",
       "  </tbody>\n",
       "</table>\n",
       "</div>"
      ],
      "text/plain": [
       "           PC_1      PC_2      PC_3      PC_4      PC_5      PC_6      PC_7  \\\n",
       "26999 -1.073176  0.751500 -0.296867  1.463372  0.820467 -1.185871  0.454034   \n",
       "16168 -0.649881  0.026484  0.239826  0.257520  0.424834 -0.360650 -0.546710   \n",
       "12338 -0.576140 -0.902214  1.304431  0.767544  1.062838 -0.524688 -0.777732   \n",
       "6074  -0.560112 -0.588036  1.039891  0.060206  0.047435 -0.154479 -1.162590   \n",
       "7385  -0.783853  0.330361  0.612266 -0.405923 -0.563307  0.244481 -1.668772   \n",
       "\n",
       "           PC_8  \n",
       "26999 -0.089753  \n",
       "16168  0.110821  \n",
       "12338  0.178573  \n",
       "6074   0.190428  \n",
       "7385   0.156780  "
      ]
     },
     "execution_count": 27,
     "metadata": {},
     "output_type": "execute_result"
    }
   ],
   "source": [
    "# Transform data\n",
    "data_train_num_pca = pca_obj.transform(data_train_num_clean)\n",
    "\n",
    "# Set data sebagai dataframe\n",
    "col_names = [f\"PC_{i+1}\" for i in range(data_train_num_pca.shape[1])]\n",
    "data_train_num_pca = pd.DataFrame(data = data_train_num_pca,\n",
    "                                  columns = col_names,\n",
    "                                  index = data_train_num_clean.index)\n",
    "\n",
    "data_train_num_pca.head()"
   ]
  },
  {
   "cell_type": "markdown",
   "metadata": {},
   "source": [
    "*Berapa principal component yang baik?*\n",
    "\n",
    "Pilih untuk mempertahankan persentase variance tertentu dalam data"
   ]
  },
  {
   "cell_type": "code",
   "execution_count": 28,
   "metadata": {},
   "outputs": [
    {
     "data": {
      "text/plain": [
       "1.0"
      ]
     },
     "execution_count": 28,
     "metadata": {},
     "output_type": "execute_result"
    }
   ],
   "source": [
    "# Jika gunakan seluruh component, maka variance-nya\n",
    "sum(pca_obj.explained_variance_ratio_)"
   ]
  },
  {
   "cell_type": "code",
   "execution_count": 29,
   "metadata": {},
   "outputs": [
    {
     "name": "stdout",
     "output_type": "stream",
     "text": [
      "n_component: 1, %variance explained: 19.15 %\n",
      "n_component: 2, %variance explained: 34.09 %\n",
      "n_component: 3, %variance explained: 48.54 %\n",
      "n_component: 4, %variance explained: 60.80 %\n",
      "n_component: 5, %variance explained: 72.00 %\n",
      "n_component: 6, %variance explained: 82.94 %\n",
      "n_component: 7, %variance explained: 93.12 %\n",
      "n_component: 8, %variance explained: 100.00 %\n"
     ]
    }
   ],
   "source": [
    "# Jika memilih n component, maka variance yang dijelaskan\n",
    "for i in range(1, len(pca_obj.explained_variance_ratio_) + 1):\n",
    "    sum_of_variance_n = sum(pca_obj.explained_variance_ratio_[:i]) * 100\n",
    "    print(f\"n_component: {i}, %variance explained: {sum_of_variance_n:.2f} %\")"
   ]
  },
  {
   "cell_type": "markdown",
   "metadata": {},
   "source": [
    "- Apabila ingin mempertahankan 90% variance, maka Anda memilih 7 komponen\n",
    "- Jumlah komponen yang dipilih dapat dijadikan bagian dari eksperimentasi"
   ]
  },
  {
   "cell_type": "markdown",
   "metadata": {},
   "source": [
    "*Membuat user-defined function untuk PCA*"
   ]
  },
  {
   "cell_type": "code",
   "execution_count": 30,
   "metadata": {},
   "outputs": [],
   "source": [
    "def fitPCA(data):\n",
    "    # Buat objek PCA\n",
    "    pca_obj = PCA(random_state = 123)\n",
    "\n",
    "    # Fit PCA pada data\n",
    "    pca_obj.fit(data)\n",
    "\n",
    "    # Tampilkan explained-variance\n",
    "    print(\"Explained variance using n_components:\")\n",
    "    for i in range(1, len(pca_obj.explained_variance_ratio_) + 1):\n",
    "        sum_of_variance_n = sum(pca_obj.explained_variance_ratio_[:i]) * 100\n",
    "        print(f\"n_component: {i}, %variance explained: {sum_of_variance_n:.2f} %\")\n",
    "\n",
    "    print()\n",
    "\n",
    "    # Pilih n_components\n",
    "    n_comp = int(input(\"n_components : \"))\n",
    "\n",
    "    # Buat ulang PCA\n",
    "    pca_obj = PCA(n_components = n_comp,\n",
    "                  random_state = 123)\n",
    "    pca_obj.fit(data)\n",
    "\n",
    "    # Ekstrak komponen\n",
    "    pca_component = pca_obj.components_[:n_comp]\n",
    "\n",
    "    # Turn to dataframe\n",
    "    pca_component = pd.DataFrame(data = pca_component,\n",
    "                                columns = data.columns)\n",
    "    \n",
    "    return pca_component, pca_obj"
   ]
  },
  {
   "cell_type": "code",
   "execution_count": 31,
   "metadata": {},
   "outputs": [
    {
     "name": "stdout",
     "output_type": "stream",
     "text": [
      "Explained variance using n_components:\n",
      "n_component: 1, %variance explained: 19.15 %\n",
      "n_component: 2, %variance explained: 34.09 %\n",
      "n_component: 3, %variance explained: 48.54 %\n",
      "n_component: 4, %variance explained: 60.80 %\n",
      "n_component: 5, %variance explained: 72.00 %\n",
      "n_component: 6, %variance explained: 82.94 %\n",
      "n_component: 7, %variance explained: 93.12 %\n",
      "n_component: 8, %variance explained: 100.00 %\n",
      "\n"
     ]
    }
   ],
   "source": [
    "pca_component, pca_obj = fitPCA(data = data_train_num_clean)"
   ]
  },
  {
   "cell_type": "code",
   "execution_count": 32,
   "metadata": {},
   "outputs": [
    {
     "data": {
      "text/html": [
       "<div>\n",
       "<style scoped>\n",
       "    .dataframe tbody tr th:only-of-type {\n",
       "        vertical-align: middle;\n",
       "    }\n",
       "\n",
       "    .dataframe tbody tr th {\n",
       "        vertical-align: top;\n",
       "    }\n",
       "\n",
       "    .dataframe thead th {\n",
       "        text-align: right;\n",
       "    }\n",
       "</style>\n",
       "<table border=\"1\" class=\"dataframe\">\n",
       "  <thead>\n",
       "    <tr style=\"text-align: right;\">\n",
       "      <th></th>\n",
       "      <th>age</th>\n",
       "      <th>day</th>\n",
       "      <th>month</th>\n",
       "      <th>balance</th>\n",
       "      <th>duration</th>\n",
       "      <th>campaign</th>\n",
       "      <th>pdays</th>\n",
       "      <th>previous</th>\n",
       "    </tr>\n",
       "  </thead>\n",
       "  <tbody>\n",
       "    <tr>\n",
       "      <th>0</th>\n",
       "      <td>-0.069772</td>\n",
       "      <td>-0.300405</td>\n",
       "      <td>-0.271369</td>\n",
       "      <td>-0.031820</td>\n",
       "      <td>0.059091</td>\n",
       "      <td>-0.266862</td>\n",
       "      <td>0.639239</td>\n",
       "      <td>0.588984</td>\n",
       "    </tr>\n",
       "    <tr>\n",
       "      <th>1</th>\n",
       "      <td>0.442293</td>\n",
       "      <td>0.297602</td>\n",
       "      <td>0.485049</td>\n",
       "      <td>0.480265</td>\n",
       "      <td>-0.128529</td>\n",
       "      <td>0.257602</td>\n",
       "      <td>0.220141</td>\n",
       "      <td>0.344300</td>\n",
       "    </tr>\n",
       "    <tr>\n",
       "      <th>2</th>\n",
       "      <td>-0.360480</td>\n",
       "      <td>0.410899</td>\n",
       "      <td>-0.142899</td>\n",
       "      <td>-0.390580</td>\n",
       "      <td>-0.419306</td>\n",
       "      <td>0.538353</td>\n",
       "      <td>0.159648</td>\n",
       "      <td>0.192650</td>\n",
       "    </tr>\n",
       "    <tr>\n",
       "      <th>3</th>\n",
       "      <td>-0.374714</td>\n",
       "      <td>0.419159</td>\n",
       "      <td>0.148437</td>\n",
       "      <td>0.015518</td>\n",
       "      <td>0.801606</td>\n",
       "      <td>0.045387</td>\n",
       "      <td>0.056493</td>\n",
       "      <td>0.117457</td>\n",
       "    </tr>\n",
       "    <tr>\n",
       "      <th>4</th>\n",
       "      <td>-0.690436</td>\n",
       "      <td>-0.027622</td>\n",
       "      <td>0.117620</td>\n",
       "      <td>0.601584</td>\n",
       "      <td>-0.321183</td>\n",
       "      <td>-0.200227</td>\n",
       "      <td>-0.007981</td>\n",
       "      <td>-0.059021</td>\n",
       "    </tr>\n",
       "    <tr>\n",
       "      <th>5</th>\n",
       "      <td>0.138927</td>\n",
       "      <td>0.066414</td>\n",
       "      <td>-0.746403</td>\n",
       "      <td>0.503089</td>\n",
       "      <td>0.152494</td>\n",
       "      <td>0.366869</td>\n",
       "      <td>-0.026452</td>\n",
       "      <td>-0.086753</td>\n",
       "    </tr>\n",
       "  </tbody>\n",
       "</table>\n",
       "</div>"
      ],
      "text/plain": [
       "        age       day     month   balance  duration  campaign     pdays  \\\n",
       "0 -0.069772 -0.300405 -0.271369 -0.031820  0.059091 -0.266862  0.639239   \n",
       "1  0.442293  0.297602  0.485049  0.480265 -0.128529  0.257602  0.220141   \n",
       "2 -0.360480  0.410899 -0.142899 -0.390580 -0.419306  0.538353  0.159648   \n",
       "3 -0.374714  0.419159  0.148437  0.015518  0.801606  0.045387  0.056493   \n",
       "4 -0.690436 -0.027622  0.117620  0.601584 -0.321183 -0.200227 -0.007981   \n",
       "5  0.138927  0.066414 -0.746403  0.503089  0.152494  0.366869 -0.026452   \n",
       "\n",
       "   previous  \n",
       "0  0.588984  \n",
       "1  0.344300  \n",
       "2  0.192650  \n",
       "3  0.117457  \n",
       "4 -0.059021  \n",
       "5 -0.086753  "
      ]
     },
     "execution_count": 32,
     "metadata": {},
     "output_type": "execute_result"
    }
   ],
   "source": [
    "pca_component"
   ]
  },
  {
   "cell_type": "code",
   "execution_count": 33,
   "metadata": {},
   "outputs": [],
   "source": [
    "# Buat fungsi transformasi data\n",
    "def transformPCA(data, pca_obj):\n",
    "    # Transform data\n",
    "    data_pca = pca_obj.transform(data)\n",
    "\n",
    "    cols = [f\"PC_{i+1}\" for i in range(data_pca.shape[1])]\n",
    "    data_pca = pd.DataFrame(data = data_pca,\n",
    "                            columns = cols,\n",
    "                            index = data.index)\n",
    "    \n",
    "    return data_pca\n"
   ]
  },
  {
   "cell_type": "code",
   "execution_count": 34,
   "metadata": {},
   "outputs": [],
   "source": [
    "data_train_num_pca = transformPCA(data = data_train_num_clean,\n",
    "                                  pca_obj = pca_obj)"
   ]
  },
  {
   "cell_type": "code",
   "execution_count": 35,
   "metadata": {},
   "outputs": [
    {
     "data": {
      "text/html": [
       "<div>\n",
       "<style scoped>\n",
       "    .dataframe tbody tr th:only-of-type {\n",
       "        vertical-align: middle;\n",
       "    }\n",
       "\n",
       "    .dataframe tbody tr th {\n",
       "        vertical-align: top;\n",
       "    }\n",
       "\n",
       "    .dataframe thead th {\n",
       "        text-align: right;\n",
       "    }\n",
       "</style>\n",
       "<table border=\"1\" class=\"dataframe\">\n",
       "  <thead>\n",
       "    <tr style=\"text-align: right;\">\n",
       "      <th></th>\n",
       "      <th>PC_1</th>\n",
       "      <th>PC_2</th>\n",
       "      <th>PC_3</th>\n",
       "      <th>PC_4</th>\n",
       "      <th>PC_5</th>\n",
       "      <th>PC_6</th>\n",
       "    </tr>\n",
       "  </thead>\n",
       "  <tbody>\n",
       "    <tr>\n",
       "      <th>26999</th>\n",
       "      <td>-1.073176</td>\n",
       "      <td>0.751500</td>\n",
       "      <td>-0.296867</td>\n",
       "      <td>1.463372</td>\n",
       "      <td>0.820467</td>\n",
       "      <td>-1.185871</td>\n",
       "    </tr>\n",
       "    <tr>\n",
       "      <th>16168</th>\n",
       "      <td>-0.649881</td>\n",
       "      <td>0.026484</td>\n",
       "      <td>0.239826</td>\n",
       "      <td>0.257520</td>\n",
       "      <td>0.424834</td>\n",
       "      <td>-0.360650</td>\n",
       "    </tr>\n",
       "    <tr>\n",
       "      <th>12338</th>\n",
       "      <td>-0.576140</td>\n",
       "      <td>-0.902214</td>\n",
       "      <td>1.304431</td>\n",
       "      <td>0.767544</td>\n",
       "      <td>1.062838</td>\n",
       "      <td>-0.524688</td>\n",
       "    </tr>\n",
       "    <tr>\n",
       "      <th>6074</th>\n",
       "      <td>-0.560112</td>\n",
       "      <td>-0.588036</td>\n",
       "      <td>1.039891</td>\n",
       "      <td>0.060206</td>\n",
       "      <td>0.047435</td>\n",
       "      <td>-0.154479</td>\n",
       "    </tr>\n",
       "    <tr>\n",
       "      <th>7385</th>\n",
       "      <td>-0.783853</td>\n",
       "      <td>0.330361</td>\n",
       "      <td>0.612266</td>\n",
       "      <td>-0.405923</td>\n",
       "      <td>-0.563307</td>\n",
       "      <td>0.244481</td>\n",
       "    </tr>\n",
       "  </tbody>\n",
       "</table>\n",
       "</div>"
      ],
      "text/plain": [
       "           PC_1      PC_2      PC_3      PC_4      PC_5      PC_6\n",
       "26999 -1.073176  0.751500 -0.296867  1.463372  0.820467 -1.185871\n",
       "16168 -0.649881  0.026484  0.239826  0.257520  0.424834 -0.360650\n",
       "12338 -0.576140 -0.902214  1.304431  0.767544  1.062838 -0.524688\n",
       "6074  -0.560112 -0.588036  1.039891  0.060206  0.047435 -0.154479\n",
       "7385  -0.783853  0.330361  0.612266 -0.405923 -0.563307  0.244481"
      ]
     },
     "execution_count": 35,
     "metadata": {},
     "output_type": "execute_result"
    }
   ],
   "source": [
    "# Cek data yang sudah diPCA\n",
    "data_train_num_pca.head()"
   ]
  },
  {
   "cell_type": "code",
   "execution_count": 36,
   "metadata": {},
   "outputs": [
    {
     "data": {
      "text/html": [
       "<div>\n",
       "<style scoped>\n",
       "    .dataframe tbody tr th:only-of-type {\n",
       "        vertical-align: middle;\n",
       "    }\n",
       "\n",
       "    .dataframe tbody tr th {\n",
       "        vertical-align: top;\n",
       "    }\n",
       "\n",
       "    .dataframe thead th {\n",
       "        text-align: right;\n",
       "    }\n",
       "</style>\n",
       "<table border=\"1\" class=\"dataframe\">\n",
       "  <thead>\n",
       "    <tr style=\"text-align: right;\">\n",
       "      <th></th>\n",
       "      <th>age</th>\n",
       "      <th>day</th>\n",
       "      <th>month</th>\n",
       "      <th>balance</th>\n",
       "      <th>duration</th>\n",
       "      <th>campaign</th>\n",
       "      <th>pdays</th>\n",
       "      <th>previous</th>\n",
       "    </tr>\n",
       "  </thead>\n",
       "  <tbody>\n",
       "    <tr>\n",
       "      <th>0</th>\n",
       "      <td>-0.069772</td>\n",
       "      <td>-0.300405</td>\n",
       "      <td>-0.271369</td>\n",
       "      <td>-0.031820</td>\n",
       "      <td>0.059091</td>\n",
       "      <td>-0.266862</td>\n",
       "      <td>0.639239</td>\n",
       "      <td>0.588984</td>\n",
       "    </tr>\n",
       "    <tr>\n",
       "      <th>1</th>\n",
       "      <td>0.442293</td>\n",
       "      <td>0.297602</td>\n",
       "      <td>0.485049</td>\n",
       "      <td>0.480265</td>\n",
       "      <td>-0.128529</td>\n",
       "      <td>0.257602</td>\n",
       "      <td>0.220141</td>\n",
       "      <td>0.344300</td>\n",
       "    </tr>\n",
       "    <tr>\n",
       "      <th>2</th>\n",
       "      <td>-0.360480</td>\n",
       "      <td>0.410899</td>\n",
       "      <td>-0.142899</td>\n",
       "      <td>-0.390580</td>\n",
       "      <td>-0.419306</td>\n",
       "      <td>0.538353</td>\n",
       "      <td>0.159648</td>\n",
       "      <td>0.192650</td>\n",
       "    </tr>\n",
       "    <tr>\n",
       "      <th>3</th>\n",
       "      <td>-0.374714</td>\n",
       "      <td>0.419159</td>\n",
       "      <td>0.148437</td>\n",
       "      <td>0.015518</td>\n",
       "      <td>0.801606</td>\n",
       "      <td>0.045387</td>\n",
       "      <td>0.056493</td>\n",
       "      <td>0.117457</td>\n",
       "    </tr>\n",
       "    <tr>\n",
       "      <th>4</th>\n",
       "      <td>-0.690436</td>\n",
       "      <td>-0.027622</td>\n",
       "      <td>0.117620</td>\n",
       "      <td>0.601584</td>\n",
       "      <td>-0.321183</td>\n",
       "      <td>-0.200227</td>\n",
       "      <td>-0.007981</td>\n",
       "      <td>-0.059021</td>\n",
       "    </tr>\n",
       "    <tr>\n",
       "      <th>5</th>\n",
       "      <td>0.138927</td>\n",
       "      <td>0.066414</td>\n",
       "      <td>-0.746403</td>\n",
       "      <td>0.503089</td>\n",
       "      <td>0.152494</td>\n",
       "      <td>0.366869</td>\n",
       "      <td>-0.026452</td>\n",
       "      <td>-0.086753</td>\n",
       "    </tr>\n",
       "  </tbody>\n",
       "</table>\n",
       "</div>"
      ],
      "text/plain": [
       "        age       day     month   balance  duration  campaign     pdays  \\\n",
       "0 -0.069772 -0.300405 -0.271369 -0.031820  0.059091 -0.266862  0.639239   \n",
       "1  0.442293  0.297602  0.485049  0.480265 -0.128529  0.257602  0.220141   \n",
       "2 -0.360480  0.410899 -0.142899 -0.390580 -0.419306  0.538353  0.159648   \n",
       "3 -0.374714  0.419159  0.148437  0.015518  0.801606  0.045387  0.056493   \n",
       "4 -0.690436 -0.027622  0.117620  0.601584 -0.321183 -0.200227 -0.007981   \n",
       "5  0.138927  0.066414 -0.746403  0.503089  0.152494  0.366869 -0.026452   \n",
       "\n",
       "   previous  \n",
       "0  0.588984  \n",
       "1  0.344300  \n",
       "2  0.192650  \n",
       "3  0.117457  \n",
       "4 -0.059021  \n",
       "5 -0.086753  "
      ]
     },
     "execution_count": 36,
     "metadata": {},
     "output_type": "execute_result"
    }
   ],
   "source": [
    "# Cek komponen\n",
    "pca_component"
   ]
  },
  {
   "cell_type": "markdown",
   "metadata": {},
   "source": [
    "**Membuat bi-plot**"
   ]
  },
  {
   "cell_type": "code",
   "execution_count": 37,
   "metadata": {},
   "outputs": [
    {
     "data": {
      "text/html": [
       "<div>\n",
       "<style scoped>\n",
       "    .dataframe tbody tr th:only-of-type {\n",
       "        vertical-align: middle;\n",
       "    }\n",
       "\n",
       "    .dataframe tbody tr th {\n",
       "        vertical-align: top;\n",
       "    }\n",
       "\n",
       "    .dataframe thead th {\n",
       "        text-align: right;\n",
       "    }\n",
       "</style>\n",
       "<table border=\"1\" class=\"dataframe\">\n",
       "  <thead>\n",
       "    <tr style=\"text-align: right;\">\n",
       "      <th></th>\n",
       "      <th>0</th>\n",
       "      <th>1</th>\n",
       "    </tr>\n",
       "  </thead>\n",
       "  <tbody>\n",
       "    <tr>\n",
       "      <th>26999</th>\n",
       "      <td>-1.073176</td>\n",
       "      <td>0.751500</td>\n",
       "    </tr>\n",
       "    <tr>\n",
       "      <th>16168</th>\n",
       "      <td>-0.649881</td>\n",
       "      <td>0.026484</td>\n",
       "    </tr>\n",
       "    <tr>\n",
       "      <th>12338</th>\n",
       "      <td>-0.576140</td>\n",
       "      <td>-0.902214</td>\n",
       "    </tr>\n",
       "    <tr>\n",
       "      <th>6074</th>\n",
       "      <td>-0.560112</td>\n",
       "      <td>-0.588036</td>\n",
       "    </tr>\n",
       "    <tr>\n",
       "      <th>7385</th>\n",
       "      <td>-0.783853</td>\n",
       "      <td>0.330361</td>\n",
       "    </tr>\n",
       "  </tbody>\n",
       "</table>\n",
       "</div>"
      ],
      "text/plain": [
       "              0         1\n",
       "26999 -1.073176  0.751500\n",
       "16168 -0.649881  0.026484\n",
       "12338 -0.576140 -0.902214\n",
       "6074  -0.560112 -0.588036\n",
       "7385  -0.783853  0.330361"
      ]
     },
     "execution_count": 37,
     "metadata": {},
     "output_type": "execute_result"
    }
   ],
   "source": [
    "import matplotlib.pyplot as plt\n",
    "transformed_data = data_train_num_clean @ pca_component[:2].T\n",
    "transformed_data.head()"
   ]
  },
  {
   "cell_type": "code",
   "execution_count": 38,
   "metadata": {},
   "outputs": [
    {
     "data": {
      "image/png": "[encoded data removed]",
      "text/plain": [
       "<Figure size 1000x700 with 1 Axes>"
      ]
     },
     "metadata": {},
     "output_type": "display_data"
    }
   ],
   "source": [
    "fig, ax = plt.subplots(nrows = 1, ncols = 1, figsize = (10, 7))\n",
    "\n",
    "ax.scatter(transformed_data[0][data_train_cat[\"poutcome\"]==\"success\"], \n",
    "           transformed_data[1][data_train_cat[\"poutcome\"]==\"success\"], \n",
    "           marker=\".\", \n",
    "           c=\"red\", #s=10,\n",
    "           alpha=.2,\n",
    "           label = \"SUCCESS\")\n",
    "\n",
    "ax.scatter(transformed_data[0][data_train_cat[\"poutcome\"]==\"other\"], \n",
    "           transformed_data[1][data_train_cat[\"poutcome\"]==\"other\"], \n",
    "           marker=\".\", \n",
    "           c=\"blue\", #s=10,\n",
    "           alpha=.2,\n",
    "           label = \"FAILED\")\n",
    "\n",
    "for col in pca_component.columns:\n",
    "    data_col = np.array(pca_component[col].loc[0:1])*5.\n",
    "    start_point = [0, data_col[0]]\n",
    "    end_point = [0, data_col[1]]\n",
    "\n",
    "    ax.plot(start_point, end_point, marker=\"o\", label=col)\n",
    "\n",
    "ax.set_ylabel(\"Second Principal Components\")\n",
    "ax.set_xlabel(\"First Principal Components\")\n",
    "ax.set_xlim([-2.0, 5])\n",
    "ax.set_ylim([-2.0, 5])\n",
    "plt.grid()\n",
    "plt.legend()\n",
    "plt.show()"
   ]
  },
  {
   "cell_type": "markdown",
   "metadata": {},
   "source": [
    "Bagaimana cara interpretasinya?\n",
    "- Untuk PC_1, memberi bobot besar pada `pdays` dan `previous`, tapi bobot untuk `duration`, `balance` dan `age` kecil\n",
    "- Artinya `pdays` dan `previous` berkorelasi satu sama lain,\n",
    "- Semakin besar `previous`, semakin besar `pdays`"
   ]
  },
  {
   "cell_type": "markdown",
   "metadata": {},
   "source": [
    "---\n",
    "### Modeling Clustering - Data Full\n",
    "- **Goal**: make separate group with similar character, and assign them into cluster\n",
    "- **TASK CLUSTERING IS SUBJECTIVE**"
   ]
  },
  {
   "cell_type": "code",
   "execution_count": 40,
   "metadata": {},
   "outputs": [
    {
     "name": "stderr",
     "output_type": "stream",
     "text": [
      "c:\\Users\\Lenovo\\AppData\\Local\\Programs\\Python\\Python38\\lib\\site-packages\\sklearn\\cluster\\_kmeans.py:1416: FutureWarning: The default value of `n_init` will change from 10 to 'auto' in 1.4. Set the value of `n_init` explicitly to suppress the warning\n",
      "  super()._check_params_vs_input(X, default_n_init=10)\n",
      "c:\\Users\\Lenovo\\AppData\\Local\\Programs\\Python\\Python38\\lib\\site-packages\\joblib\\externals\\loky\\backend\\context.py:136: UserWarning: Could not find the number of physical cores for the following reason:\n",
      "found 0 physical cores < 1\n",
      "Returning the number of logical cores instead. You can silence this warning by setting LOKY_MAX_CPU_COUNT to the number of cores you want to use.\n",
      "  warnings.warn(\n",
      "  File \"c:\\Users\\Lenovo\\AppData\\Local\\Programs\\Python\\Python38\\lib\\site-packages\\joblib\\externals\\loky\\backend\\context.py\", line 282, in _count_physical_cores\n",
      "    raise ValueError(f\"found {cpu_count_physical} physical cores < 1\")\n"
     ]
    },
    {
     "data": {
      "text/html": [
       "<style>#sk-container-id-2 {color: black;}#sk-container-id-2 pre{padding: 0;}#sk-container-id-2 div.sk-toggleable {background-color: white;}#sk-container-id-2 label.sk-toggleable__label {cursor: pointer;display: block;width: 100%;margin-bottom: 0;padding: 0.3em;box-sizing: border-box;text-align: center;}#sk-container-id-2 label.sk-toggleable__label-arrow:before {content: \"▸\";float: left;margin-right: 0.25em;color: #696969;}#sk-container-id-2 label.sk-toggleable__label-arrow:hover:before {color: black;}#sk-container-id-2 div.sk-estimator:hover label.sk-toggleable__label-arrow:before {color: black;}#sk-container-id-2 div.sk-toggleable__content {max-height: 0;max-width: 0;overflow: hidden;text-align: left;background-color: #f0f8ff;}#sk-container-id-2 div.sk-toggleable__content pre {margin: 0.2em;color: black;border-radius: 0.25em;background-color: #f0f8ff;}#sk-container-id-2 input.sk-toggleable__control:checked~div.sk-toggleable__content {max-height: 200px;max-width: 100%;overflow: auto;}#sk-container-id-2 input.sk-toggleable__control:checked~label.sk-toggleable__label-arrow:before {content: \"▾\";}#sk-container-id-2 div.sk-estimator input.sk-toggleable__control:checked~label.sk-toggleable__label {background-color: #d4ebff;}#sk-container-id-2 div.sk-label input.sk-toggleable__control:checked~label.sk-toggleable__label {background-color: #d4ebff;}#sk-container-id-2 input.sk-hidden--visually {border: 0;clip: rect(1px 1px 1px 1px);clip: rect(1px, 1px, 1px, 1px);height: 1px;margin: -1px;overflow: hidden;padding: 0;position: absolute;width: 1px;}#sk-container-id-2 div.sk-estimator {font-family: monospace;background-color: #f0f8ff;border: 1px dotted black;border-radius: 0.25em;box-sizing: border-box;margin-bottom: 0.5em;}#sk-container-id-2 div.sk-estimator:hover {background-color: #d4ebff;}#sk-container-id-2 div.sk-parallel-item::after {content: \"\";width: 100%;border-bottom: 1px solid gray;flex-grow: 1;}#sk-container-id-2 div.sk-label:hover label.sk-toggleable__label {background-color: #d4ebff;}#sk-container-id-2 div.sk-serial::before {content: \"\";position: absolute;border-left: 1px solid gray;box-sizing: border-box;top: 0;bottom: 0;left: 50%;z-index: 0;}#sk-container-id-2 div.sk-serial {display: flex;flex-direction: column;align-items: center;background-color: white;padding-right: 0.2em;padding-left: 0.2em;position: relative;}#sk-container-id-2 div.sk-item {position: relative;z-index: 1;}#sk-container-id-2 div.sk-parallel {display: flex;align-items: stretch;justify-content: center;background-color: white;position: relative;}#sk-container-id-2 div.sk-item::before, #sk-container-id-2 div.sk-parallel-item::before {content: \"\";position: absolute;border-left: 1px solid gray;box-sizing: border-box;top: 0;bottom: 0;left: 50%;z-index: -1;}#sk-container-id-2 div.sk-parallel-item {display: flex;flex-direction: column;z-index: 1;position: relative;background-color: white;}#sk-container-id-2 div.sk-parallel-item:first-child::after {align-self: flex-end;width: 50%;}#sk-container-id-2 div.sk-parallel-item:last-child::after {align-self: flex-start;width: 50%;}#sk-container-id-2 div.sk-parallel-item:only-child::after {width: 0;}#sk-container-id-2 div.sk-dashed-wrapped {border: 1px dashed gray;margin: 0 0.4em 0.5em 0.4em;box-sizing: border-box;padding-bottom: 0.4em;background-color: white;}#sk-container-id-2 div.sk-label label {font-family: monospace;font-weight: bold;display: inline-block;line-height: 1.2em;}#sk-container-id-2 div.sk-label-container {text-align: center;}#sk-container-id-2 div.sk-container {/* jupyter's `normalize.less` sets `[hidden] { display: none; }` but bootstrap.min.css set `[hidden] { display: none !important; }` so we also need the `!important` here to be able to override the default hidden behavior on the sphinx rendered scikit-learn.org. See: https://github.com/scikit-learn/scikit-learn/issues/21755 */display: inline-block !important;position: relative;}#sk-container-id-2 div.sk-text-repr-fallback {display: none;}</style><div id=\"sk-container-id-2\" class=\"sk-top-container\"><div class=\"sk-text-repr-fallback\"><pre>KMeans(n_clusters=3, random_state=123)</pre><b>In a Jupyter environment, please rerun this cell to show the HTML representation or trust the notebook. <br />On GitHub, the HTML representation is unable to render, please try loading this page with nbviewer.org.</b></div><div class=\"sk-container\" hidden><div class=\"sk-item\"><div class=\"sk-estimator sk-toggleable\"><input class=\"sk-toggleable__control sk-hidden--visually\" id=\"sk-estimator-id-2\" type=\"checkbox\" checked><label for=\"sk-estimator-id-2\" class=\"sk-toggleable__label sk-toggleable__label-arrow\">KMeans</label><div class=\"sk-toggleable__content\"><pre>KMeans(n_clusters=3, random_state=123)</pre></div></div></div></div></div>"
      ],
      "text/plain": [
       "KMeans(n_clusters=3, random_state=123)"
      ]
     },
     "execution_count": 40,
     "metadata": {},
     "output_type": "execute_result"
    }
   ],
   "source": [
    "from sklearn.cluster import KMeans\n",
    "\n",
    "# Buat objek k-means\n",
    "kmeans_obj = KMeans(n_clusters = 3,\n",
    "                    random_state = 123)\n",
    "\n",
    "# Fit objek k-means\n",
    "kmeans_obj.fit(data_train_num_clean)\n"
   ]
  },
  {
   "cell_type": "code",
   "execution_count": 41,
   "metadata": {},
   "outputs": [
    {
     "data": {
      "text/plain": [
       "array([0, 0, 0, ..., 0, 0, 0])"
      ]
     },
     "execution_count": 41,
     "metadata": {},
     "output_type": "execute_result"
    }
   ],
   "source": [
    "# Predict Cluster\n",
    "kmeans_obj.predict(data_train_num_clean)"
   ]
  },
  {
   "cell_type": "code",
   "execution_count": 42,
   "metadata": {},
   "outputs": [],
   "source": [
    "# Reshape predicted cluster to dataframe\n",
    "cluster_result = kmeans_obj.predict(data_train_num_clean)\n",
    "cluster_result = pd.DataFrame(data = cluster_result,\n",
    "                              columns = [\"cluster\"],\n",
    "                              index = data_train_num_clean.index)"
   ]
  },
  {
   "cell_type": "code",
   "execution_count": 43,
   "metadata": {},
   "outputs": [
    {
     "data": {
      "text/html": [
       "<div>\n",
       "<style scoped>\n",
       "    .dataframe tbody tr th:only-of-type {\n",
       "        vertical-align: middle;\n",
       "    }\n",
       "\n",
       "    .dataframe tbody tr th {\n",
       "        vertical-align: top;\n",
       "    }\n",
       "\n",
       "    .dataframe thead th {\n",
       "        text-align: right;\n",
       "    }\n",
       "</style>\n",
       "<table border=\"1\" class=\"dataframe\">\n",
       "  <thead>\n",
       "    <tr style=\"text-align: right;\">\n",
       "      <th></th>\n",
       "      <th>cluster</th>\n",
       "    </tr>\n",
       "  </thead>\n",
       "  <tbody>\n",
       "    <tr>\n",
       "      <th>26999</th>\n",
       "      <td>0</td>\n",
       "    </tr>\n",
       "    <tr>\n",
       "      <th>16168</th>\n",
       "      <td>0</td>\n",
       "    </tr>\n",
       "    <tr>\n",
       "      <th>12338</th>\n",
       "      <td>0</td>\n",
       "    </tr>\n",
       "    <tr>\n",
       "      <th>6074</th>\n",
       "      <td>0</td>\n",
       "    </tr>\n",
       "    <tr>\n",
       "      <th>7385</th>\n",
       "      <td>0</td>\n",
       "    </tr>\n",
       "  </tbody>\n",
       "</table>\n",
       "</div>"
      ],
      "text/plain": [
       "       cluster\n",
       "26999        0\n",
       "16168        0\n",
       "12338        0\n",
       "6074         0\n",
       "7385         0"
      ]
     },
     "execution_count": 43,
     "metadata": {},
     "output_type": "execute_result"
    }
   ],
   "source": [
    "cluster_result.head()"
   ]
  },
  {
   "cell_type": "code",
   "execution_count": 44,
   "metadata": {},
   "outputs": [
    {
     "data": {
      "text/plain": [
       "cluster\n",
       "0    0.438156\n",
       "2    0.433231\n",
       "1    0.128613\n",
       "Name: proportion, dtype: float64"
      ]
     },
     "execution_count": 44,
     "metadata": {},
     "output_type": "execute_result"
    }
   ],
   "source": [
    "# Periksa proporsi cluster\n",
    "cluster_result[\"cluster\"].value_counts(normalize = True)"
   ]
  },
  {
   "cell_type": "markdown",
   "metadata": {},
   "source": [
    "**2 cluster memiliki porsi di atas 43% data**\n",
    "\n",
    "*periksa centroid* sebagai representasi cluster"
   ]
  },
  {
   "cell_type": "code",
   "execution_count": 45,
   "metadata": {},
   "outputs": [
    {
     "data": {
      "text/plain": [
       "array([[ 0.03937912,  0.85322693,  0.37342149,  0.08001659, -0.12595164,\n",
       "         0.25195196, -0.30958848, -0.17262413],\n",
       "       [-0.04313517, -0.2740182 , -0.53431553,  0.00767733,  0.00491422,\n",
       "        -0.19510653,  2.31023679,  1.28068678],\n",
       "       [-0.02703145, -0.78176728, -0.21914726, -0.08322143,  0.12595067,\n",
       "        -0.19695621, -0.37255478, -0.20551245]])"
      ]
     },
     "execution_count": 45,
     "metadata": {},
     "output_type": "execute_result"
    }
   ],
   "source": [
    "# Check centroid\n",
    "kmeans_obj.cluster_centers_"
   ]
  },
  {
   "cell_type": "code",
   "execution_count": 46,
   "metadata": {},
   "outputs": [
    {
     "data": {
      "text/html": [
       "<div>\n",
       "<style scoped>\n",
       "    .dataframe tbody tr th:only-of-type {\n",
       "        vertical-align: middle;\n",
       "    }\n",
       "\n",
       "    .dataframe tbody tr th {\n",
       "        vertical-align: top;\n",
       "    }\n",
       "\n",
       "    .dataframe thead th {\n",
       "        text-align: right;\n",
       "    }\n",
       "</style>\n",
       "<table border=\"1\" class=\"dataframe\">\n",
       "  <thead>\n",
       "    <tr style=\"text-align: right;\">\n",
       "      <th></th>\n",
       "      <th>age</th>\n",
       "      <th>day</th>\n",
       "      <th>month</th>\n",
       "      <th>balance</th>\n",
       "      <th>duration</th>\n",
       "      <th>campaign</th>\n",
       "      <th>pdays</th>\n",
       "      <th>previous</th>\n",
       "    </tr>\n",
       "  </thead>\n",
       "  <tbody>\n",
       "    <tr>\n",
       "      <th>0</th>\n",
       "      <td>0.039379</td>\n",
       "      <td>0.853227</td>\n",
       "      <td>0.373421</td>\n",
       "      <td>0.080017</td>\n",
       "      <td>-0.125952</td>\n",
       "      <td>0.251952</td>\n",
       "      <td>-0.309588</td>\n",
       "      <td>-0.172624</td>\n",
       "    </tr>\n",
       "    <tr>\n",
       "      <th>1</th>\n",
       "      <td>-0.043135</td>\n",
       "      <td>-0.274018</td>\n",
       "      <td>-0.534316</td>\n",
       "      <td>0.007677</td>\n",
       "      <td>0.004914</td>\n",
       "      <td>-0.195107</td>\n",
       "      <td>2.310237</td>\n",
       "      <td>1.280687</td>\n",
       "    </tr>\n",
       "    <tr>\n",
       "      <th>2</th>\n",
       "      <td>-0.027031</td>\n",
       "      <td>-0.781767</td>\n",
       "      <td>-0.219147</td>\n",
       "      <td>-0.083221</td>\n",
       "      <td>0.125951</td>\n",
       "      <td>-0.196956</td>\n",
       "      <td>-0.372555</td>\n",
       "      <td>-0.205512</td>\n",
       "    </tr>\n",
       "  </tbody>\n",
       "</table>\n",
       "</div>"
      ],
      "text/plain": [
       "        age       day     month   balance  duration  campaign     pdays  \\\n",
       "0  0.039379  0.853227  0.373421  0.080017 -0.125952  0.251952 -0.309588   \n",
       "1 -0.043135 -0.274018 -0.534316  0.007677  0.004914 -0.195107  2.310237   \n",
       "2 -0.027031 -0.781767 -0.219147 -0.083221  0.125951 -0.196956 -0.372555   \n",
       "\n",
       "   previous  \n",
       "0 -0.172624  \n",
       "1  1.280687  \n",
       "2 -0.205512  "
      ]
     },
     "execution_count": 46,
     "metadata": {},
     "output_type": "execute_result"
    }
   ],
   "source": [
    "# Jadikan dataframe\n",
    "centroids = kmeans_obj.cluster_centers_\n",
    "centroids = pd.DataFrame(data = centroids,\n",
    "                         columns = data_train_num_clean.columns)\n",
    "\n",
    "centroids"
   ]
  },
  {
   "cell_type": "markdown",
   "metadata": {},
   "source": [
    "- Tentu hal diatas tidak bisa diartikan\n",
    "- Karena dalam bentuk terstandardkan\n",
    "- Kita harus balikan ke dalam bentuk awal sebelum distandarisasi\n",
    "\n",
    "*inverse transform dari standardizer*"
   ]
  },
  {
   "cell_type": "code",
   "execution_count": 47,
   "metadata": {},
   "outputs": [
    {
     "data": {
      "text/html": [
       "<div>\n",
       "<style scoped>\n",
       "    .dataframe tbody tr th:only-of-type {\n",
       "        vertical-align: middle;\n",
       "    }\n",
       "\n",
       "    .dataframe tbody tr th {\n",
       "        vertical-align: top;\n",
       "    }\n",
       "\n",
       "    .dataframe thead th {\n",
       "        text-align: right;\n",
       "    }\n",
       "</style>\n",
       "<table border=\"1\" class=\"dataframe\">\n",
       "  <thead>\n",
       "    <tr style=\"text-align: right;\">\n",
       "      <th></th>\n",
       "      <th>age</th>\n",
       "      <th>day</th>\n",
       "      <th>month</th>\n",
       "      <th>balance</th>\n",
       "      <th>duration</th>\n",
       "      <th>campaign</th>\n",
       "      <th>pdays</th>\n",
       "      <th>previous</th>\n",
       "    </tr>\n",
       "  </thead>\n",
       "  <tbody>\n",
       "    <tr>\n",
       "      <th>0</th>\n",
       "      <td>41.379837</td>\n",
       "      <td>22.885524</td>\n",
       "      <td>7.034794</td>\n",
       "      <td>1617.919308</td>\n",
       "      <td>226.535837</td>\n",
       "      <td>3.538260</td>\n",
       "      <td>9.191130</td>\n",
       "      <td>0.167373</td>\n",
       "    </tr>\n",
       "    <tr>\n",
       "      <th>1</th>\n",
       "      <td>40.504587</td>\n",
       "      <td>13.516055</td>\n",
       "      <td>4.854358</td>\n",
       "      <td>1399.323853</td>\n",
       "      <td>260.553211</td>\n",
       "      <td>2.157798</td>\n",
       "      <td>271.100917</td>\n",
       "      <td>3.637615</td>\n",
       "    </tr>\n",
       "    <tr>\n",
       "      <th>2</th>\n",
       "      <td>40.675403</td>\n",
       "      <td>9.295731</td>\n",
       "      <td>5.611410</td>\n",
       "      <td>1124.645109</td>\n",
       "      <td>292.015522</td>\n",
       "      <td>2.152087</td>\n",
       "      <td>2.896249</td>\n",
       "      <td>0.088842</td>\n",
       "    </tr>\n",
       "  </tbody>\n",
       "</table>\n",
       "</div>"
      ],
      "text/plain": [
       "         age        day     month      balance    duration  campaign  \\\n",
       "0  41.379837  22.885524  7.034794  1617.919308  226.535837  3.538260   \n",
       "1  40.504587  13.516055  4.854358  1399.323853  260.553211  2.157798   \n",
       "2  40.675403   9.295731  5.611410  1124.645109  292.015522  2.152087   \n",
       "\n",
       "        pdays  previous  \n",
       "0    9.191130  0.167373  \n",
       "1  271.100917  3.637615  \n",
       "2    2.896249  0.088842  "
      ]
     },
     "execution_count": 47,
     "metadata": {},
     "output_type": "execute_result"
    }
   ],
   "source": [
    "centroid_real = num_scaler.inverse_transform(centroids)\n",
    "centroid_real = pd.DataFrame(data = centroid_real,\n",
    "                             columns = data_train_num_clean.columns)\n",
    "\n",
    "centroid_real"
   ]
  },
  {
   "cell_type": "markdown",
   "metadata": {},
   "source": [
    "*lalu artinya apa?* - Harus di translate sendiri\n",
    "\n",
    "Cluster 1 (0) adalah **group** yang\n",
    "- dikontak di awal bulan\n",
    "- sudah pernah dikontak 2x **selama** campaign\n",
    "- belum pernah dikontak **sebelum** campaign"
   ]
  },
  {
   "cell_type": "markdown",
   "metadata": {},
   "source": [
    "*BEST K?*\n",
    "\n",
    "Score -- within-cluster sum-of-squares\n",
    "\n",
    "$$\n",
    "\\text{scores} = - \\sum_{i=0}^{n} ||x_{i} - \\mu_{j}||^{2}\n",
    "$$"
   ]
  },
  {
   "cell_type": "code",
   "execution_count": 48,
   "metadata": {},
   "outputs": [
    {
     "data": {
      "text/plain": [
       "209784.98744710835"
      ]
     },
     "execution_count": 48,
     "metadata": {},
     "output_type": "execute_result"
    }
   ],
   "source": [
    "# Tampilkan score\n",
    "-kmeans_obj.score(data_train_num_clean)"
   ]
  },
  {
   "cell_type": "markdown",
   "metadata": {},
   "source": [
    "*coba variasikan beberapa cluster*"
   ]
  },
  {
   "cell_type": "code",
   "execution_count": 49,
   "metadata": {},
   "outputs": [
    {
     "name": "stderr",
     "output_type": "stream",
     "text": [
      "c:\\Users\\Lenovo\\AppData\\Local\\Programs\\Python\\Python38\\lib\\site-packages\\sklearn\\cluster\\_kmeans.py:1416: FutureWarning: The default value of `n_init` will change from 10 to 'auto' in 1.4. Set the value of `n_init` explicitly to suppress the warning\n",
      "  super()._check_params_vs_input(X, default_n_init=10)\n",
      "c:\\Users\\Lenovo\\AppData\\Local\\Programs\\Python\\Python38\\lib\\site-packages\\sklearn\\cluster\\_kmeans.py:1416: FutureWarning: The default value of `n_init` will change from 10 to 'auto' in 1.4. Set the value of `n_init` explicitly to suppress the warning\n",
      "  super()._check_params_vs_input(X, default_n_init=10)\n",
      "c:\\Users\\Lenovo\\AppData\\Local\\Programs\\Python\\Python38\\lib\\site-packages\\sklearn\\cluster\\_kmeans.py:1416: FutureWarning: The default value of `n_init` will change from 10 to 'auto' in 1.4. Set the value of `n_init` explicitly to suppress the warning\n",
      "  super()._check_params_vs_input(X, default_n_init=10)\n",
      "c:\\Users\\Lenovo\\AppData\\Local\\Programs\\Python\\Python38\\lib\\site-packages\\sklearn\\cluster\\_kmeans.py:1416: FutureWarning: The default value of `n_init` will change from 10 to 'auto' in 1.4. Set the value of `n_init` explicitly to suppress the warning\n",
      "  super()._check_params_vs_input(X, default_n_init=10)\n",
      "c:\\Users\\Lenovo\\AppData\\Local\\Programs\\Python\\Python38\\lib\\site-packages\\sklearn\\cluster\\_kmeans.py:1416: FutureWarning: The default value of `n_init` will change from 10 to 'auto' in 1.4. Set the value of `n_init` explicitly to suppress the warning\n",
      "  super()._check_params_vs_input(X, default_n_init=10)\n",
      "c:\\Users\\Lenovo\\AppData\\Local\\Programs\\Python\\Python38\\lib\\site-packages\\sklearn\\cluster\\_kmeans.py:1416: FutureWarning: The default value of `n_init` will change from 10 to 'auto' in 1.4. Set the value of `n_init` explicitly to suppress the warning\n",
      "  super()._check_params_vs_input(X, default_n_init=10)\n",
      "c:\\Users\\Lenovo\\AppData\\Local\\Programs\\Python\\Python38\\lib\\site-packages\\sklearn\\cluster\\_kmeans.py:1416: FutureWarning: The default value of `n_init` will change from 10 to 'auto' in 1.4. Set the value of `n_init` explicitly to suppress the warning\n",
      "  super()._check_params_vs_input(X, default_n_init=10)\n",
      "c:\\Users\\Lenovo\\AppData\\Local\\Programs\\Python\\Python38\\lib\\site-packages\\sklearn\\cluster\\_kmeans.py:1416: FutureWarning: The default value of `n_init` will change from 10 to 'auto' in 1.4. Set the value of `n_init` explicitly to suppress the warning\n",
      "  super()._check_params_vs_input(X, default_n_init=10)\n",
      "c:\\Users\\Lenovo\\AppData\\Local\\Programs\\Python\\Python38\\lib\\site-packages\\sklearn\\cluster\\_kmeans.py:1416: FutureWarning: The default value of `n_init` will change from 10 to 'auto' in 1.4. Set the value of `n_init` explicitly to suppress the warning\n",
      "  super()._check_params_vs_input(X, default_n_init=10)\n"
     ]
    }
   ],
   "source": [
    "score_list = []\n",
    "k_list = np.arange(2, 11, 1)\n",
    "\n",
    "for k in k_list:\n",
    "    # Buat object\n",
    "    kmeans_obj_k = KMeans(n_clusters = k,\n",
    "                          max_iter = 50,\n",
    "                          random_state = 123)\n",
    "    \n",
    "    # Fit data\n",
    "    kmeans_obj_k.fit(data_train_num_clean)\n",
    "\n",
    "    # update score\n",
    "    score_k = -kmeans_obj_k.score(data_train_num_clean)\n",
    "    score_list.append(score_k)\n"
   ]
  },
  {
   "cell_type": "code",
   "execution_count": 50,
   "metadata": {},
   "outputs": [
    {
     "data": {
      "text/plain": [
       "[234084.3344467303,\n",
       " 209784.98744710837,\n",
       " 191703.13257109828,\n",
       " 175540.00432668623,\n",
       " 158902.7450404901,\n",
       " 145745.07660011106,\n",
       " 135044.3383715455,\n",
       " 122120.67849306182,\n",
       " 115321.43914771419]"
      ]
     },
     "execution_count": 50,
     "metadata": {},
     "output_type": "execute_result"
    }
   ],
   "source": [
    "score_list"
   ]
  },
  {
   "cell_type": "code",
   "execution_count": 51,
   "metadata": {},
   "outputs": [
    {
     "data": {
      "image/png": "[encoded data removed]",
      "text/plain": [
       "<Figure size 1000x700 with 1 Axes>"
      ]
     },
     "metadata": {},
     "output_type": "display_data"
    }
   ],
   "source": [
    "fig, ax = plt.subplots(nrows=1, ncols=1, figsize=(10, 7))\n",
    "\n",
    "ax.plot(k_list, score_list, \"r\", marker=\"o\")\n",
    "\n",
    "ax.set_xlabel(\"number of cluster\")\n",
    "ax.set_ylabel(\"within-cluster sum-of-square\")\n",
    "plt.show()"
   ]
  },
  {
   "cell_type": "markdown",
   "metadata": {},
   "source": [
    "- Makin banyak cluster, makin rendah scorenya.\n",
    "- Tapi, makin banyak cluster, makin kompleks untuk diinterpretasikan.\n",
    "- Kita coba ambil cluster terbaik di 9, karena perubahan error di cluster 10 mengecil"
   ]
  },
  {
   "cell_type": "code",
   "execution_count": 52,
   "metadata": {},
   "outputs": [
    {
     "name": "stderr",
     "output_type": "stream",
     "text": [
      "c:\\Users\\Lenovo\\AppData\\Local\\Programs\\Python\\Python38\\lib\\site-packages\\sklearn\\cluster\\_kmeans.py:1416: FutureWarning: The default value of `n_init` will change from 10 to 'auto' in 1.4. Set the value of `n_init` explicitly to suppress the warning\n",
      "  super()._check_params_vs_input(X, default_n_init=10)\n"
     ]
    },
    {
     "data": {
      "text/html": [
       "<style>#sk-container-id-3 {color: black;}#sk-container-id-3 pre{padding: 0;}#sk-container-id-3 div.sk-toggleable {background-color: white;}#sk-container-id-3 label.sk-toggleable__label {cursor: pointer;display: block;width: 100%;margin-bottom: 0;padding: 0.3em;box-sizing: border-box;text-align: center;}#sk-container-id-3 label.sk-toggleable__label-arrow:before {content: \"▸\";float: left;margin-right: 0.25em;color: #696969;}#sk-container-id-3 label.sk-toggleable__label-arrow:hover:before {color: black;}#sk-container-id-3 div.sk-estimator:hover label.sk-toggleable__label-arrow:before {color: black;}#sk-container-id-3 div.sk-toggleable__content {max-height: 0;max-width: 0;overflow: hidden;text-align: left;background-color: #f0f8ff;}#sk-container-id-3 div.sk-toggleable__content pre {margin: 0.2em;color: black;border-radius: 0.25em;background-color: #f0f8ff;}#sk-container-id-3 input.sk-toggleable__control:checked~div.sk-toggleable__content {max-height: 200px;max-width: 100%;overflow: auto;}#sk-container-id-3 input.sk-toggleable__control:checked~label.sk-toggleable__label-arrow:before {content: \"▾\";}#sk-container-id-3 div.sk-estimator input.sk-toggleable__control:checked~label.sk-toggleable__label {background-color: #d4ebff;}#sk-container-id-3 div.sk-label input.sk-toggleable__control:checked~label.sk-toggleable__label {background-color: #d4ebff;}#sk-container-id-3 input.sk-hidden--visually {border: 0;clip: rect(1px 1px 1px 1px);clip: rect(1px, 1px, 1px, 1px);height: 1px;margin: -1px;overflow: hidden;padding: 0;position: absolute;width: 1px;}#sk-container-id-3 div.sk-estimator {font-family: monospace;background-color: #f0f8ff;border: 1px dotted black;border-radius: 0.25em;box-sizing: border-box;margin-bottom: 0.5em;}#sk-container-id-3 div.sk-estimator:hover {background-color: #d4ebff;}#sk-container-id-3 div.sk-parallel-item::after {content: \"\";width: 100%;border-bottom: 1px solid gray;flex-grow: 1;}#sk-container-id-3 div.sk-label:hover label.sk-toggleable__label {background-color: #d4ebff;}#sk-container-id-3 div.sk-serial::before {content: \"\";position: absolute;border-left: 1px solid gray;box-sizing: border-box;top: 0;bottom: 0;left: 50%;z-index: 0;}#sk-container-id-3 div.sk-serial {display: flex;flex-direction: column;align-items: center;background-color: white;padding-right: 0.2em;padding-left: 0.2em;position: relative;}#sk-container-id-3 div.sk-item {position: relative;z-index: 1;}#sk-container-id-3 div.sk-parallel {display: flex;align-items: stretch;justify-content: center;background-color: white;position: relative;}#sk-container-id-3 div.sk-item::before, #sk-container-id-3 div.sk-parallel-item::before {content: \"\";position: absolute;border-left: 1px solid gray;box-sizing: border-box;top: 0;bottom: 0;left: 50%;z-index: -1;}#sk-container-id-3 div.sk-parallel-item {display: flex;flex-direction: column;z-index: 1;position: relative;background-color: white;}#sk-container-id-3 div.sk-parallel-item:first-child::after {align-self: flex-end;width: 50%;}#sk-container-id-3 div.sk-parallel-item:last-child::after {align-self: flex-start;width: 50%;}#sk-container-id-3 div.sk-parallel-item:only-child::after {width: 0;}#sk-container-id-3 div.sk-dashed-wrapped {border: 1px dashed gray;margin: 0 0.4em 0.5em 0.4em;box-sizing: border-box;padding-bottom: 0.4em;background-color: white;}#sk-container-id-3 div.sk-label label {font-family: monospace;font-weight: bold;display: inline-block;line-height: 1.2em;}#sk-container-id-3 div.sk-label-container {text-align: center;}#sk-container-id-3 div.sk-container {/* jupyter's `normalize.less` sets `[hidden] { display: none; }` but bootstrap.min.css set `[hidden] { display: none !important; }` so we also need the `!important` here to be able to override the default hidden behavior on the sphinx rendered scikit-learn.org. See: https://github.com/scikit-learn/scikit-learn/issues/21755 */display: inline-block !important;position: relative;}#sk-container-id-3 div.sk-text-repr-fallback {display: none;}</style><div id=\"sk-container-id-3\" class=\"sk-top-container\"><div class=\"sk-text-repr-fallback\"><pre>KMeans(n_clusters=9, random_state=123)</pre><b>In a Jupyter environment, please rerun this cell to show the HTML representation or trust the notebook. <br />On GitHub, the HTML representation is unable to render, please try loading this page with nbviewer.org.</b></div><div class=\"sk-container\" hidden><div class=\"sk-item\"><div class=\"sk-estimator sk-toggleable\"><input class=\"sk-toggleable__control sk-hidden--visually\" id=\"sk-estimator-id-3\" type=\"checkbox\" checked><label for=\"sk-estimator-id-3\" class=\"sk-toggleable__label sk-toggleable__label-arrow\">KMeans</label><div class=\"sk-toggleable__content\"><pre>KMeans(n_clusters=9, random_state=123)</pre></div></div></div></div></div>"
      ],
      "text/plain": [
       "KMeans(n_clusters=9, random_state=123)"
      ]
     },
     "execution_count": 52,
     "metadata": {},
     "output_type": "execute_result"
    }
   ],
   "source": [
    "# Buat object\n",
    "kmeans_obj_best = KMeans(n_clusters = 9,\n",
    "                         random_state = 123)\n",
    "\n",
    "# Fit object\n",
    "kmeans_obj_best.fit(data_train_num_clean)"
   ]
  },
  {
   "cell_type": "code",
   "execution_count": 53,
   "metadata": {},
   "outputs": [
    {
     "data": {
      "text/html": [
       "<div>\n",
       "<style scoped>\n",
       "    .dataframe tbody tr th:only-of-type {\n",
       "        vertical-align: middle;\n",
       "    }\n",
       "\n",
       "    .dataframe tbody tr th {\n",
       "        vertical-align: top;\n",
       "    }\n",
       "\n",
       "    .dataframe thead th {\n",
       "        text-align: right;\n",
       "    }\n",
       "</style>\n",
       "<table border=\"1\" class=\"dataframe\">\n",
       "  <thead>\n",
       "    <tr style=\"text-align: right;\">\n",
       "      <th></th>\n",
       "      <th>age</th>\n",
       "      <th>day</th>\n",
       "      <th>month</th>\n",
       "      <th>balance</th>\n",
       "      <th>duration</th>\n",
       "      <th>campaign</th>\n",
       "      <th>pdays</th>\n",
       "      <th>previous</th>\n",
       "    </tr>\n",
       "  </thead>\n",
       "  <tbody>\n",
       "    <tr>\n",
       "      <th>0</th>\n",
       "      <td>54.604860</td>\n",
       "      <td>13.276118</td>\n",
       "      <td>6.127225</td>\n",
       "      <td>1246.759016</td>\n",
       "      <td>209.813806</td>\n",
       "      <td>2.462312</td>\n",
       "      <td>7.212970</td>\n",
       "      <td>0.165764</td>\n",
       "    </tr>\n",
       "    <tr>\n",
       "      <th>1</th>\n",
       "      <td>37.140534</td>\n",
       "      <td>24.772936</td>\n",
       "      <td>5.601490</td>\n",
       "      <td>852.452514</td>\n",
       "      <td>201.419615</td>\n",
       "      <td>2.683426</td>\n",
       "      <td>1.984109</td>\n",
       "      <td>0.065549</td>\n",
       "    </tr>\n",
       "    <tr>\n",
       "      <th>2</th>\n",
       "      <td>40.634561</td>\n",
       "      <td>22.265345</td>\n",
       "      <td>6.774315</td>\n",
       "      <td>971.484419</td>\n",
       "      <td>146.050047</td>\n",
       "      <td>15.700661</td>\n",
       "      <td>0.035883</td>\n",
       "      <td>0.030217</td>\n",
       "    </tr>\n",
       "    <tr>\n",
       "      <th>3</th>\n",
       "      <td>39.332783</td>\n",
       "      <td>13.245875</td>\n",
       "      <td>4.406766</td>\n",
       "      <td>1087.734873</td>\n",
       "      <td>234.671892</td>\n",
       "      <td>2.177668</td>\n",
       "      <td>290.418867</td>\n",
       "      <td>3.548680</td>\n",
       "    </tr>\n",
       "    <tr>\n",
       "      <th>4</th>\n",
       "      <td>40.748892</td>\n",
       "      <td>15.648941</td>\n",
       "      <td>6.163466</td>\n",
       "      <td>1286.755293</td>\n",
       "      <td>1008.479074</td>\n",
       "      <td>2.435746</td>\n",
       "      <td>15.535204</td>\n",
       "      <td>0.259970</td>\n",
       "    </tr>\n",
       "    <tr>\n",
       "      <th>5</th>\n",
       "      <td>41.077538</td>\n",
       "      <td>18.198284</td>\n",
       "      <td>10.733649</td>\n",
       "      <td>1860.238532</td>\n",
       "      <td>215.559337</td>\n",
       "      <td>1.827168</td>\n",
       "      <td>50.182598</td>\n",
       "      <td>0.980172</td>\n",
       "    </tr>\n",
       "    <tr>\n",
       "      <th>6</th>\n",
       "      <td>34.803790</td>\n",
       "      <td>8.665819</td>\n",
       "      <td>5.427201</td>\n",
       "      <td>826.768200</td>\n",
       "      <td>216.659348</td>\n",
       "      <td>2.178068</td>\n",
       "      <td>2.689970</td>\n",
       "      <td>0.080656</td>\n",
       "    </tr>\n",
       "    <tr>\n",
       "      <th>7</th>\n",
       "      <td>40.000000</td>\n",
       "      <td>2.000000</td>\n",
       "      <td>2.000000</td>\n",
       "      <td>543.000000</td>\n",
       "      <td>349.000000</td>\n",
       "      <td>2.000000</td>\n",
       "      <td>262.000000</td>\n",
       "      <td>275.000000</td>\n",
       "    </tr>\n",
       "    <tr>\n",
       "      <th>8</th>\n",
       "      <td>44.517405</td>\n",
       "      <td>16.132911</td>\n",
       "      <td>7.056962</td>\n",
       "      <td>16932.697785</td>\n",
       "      <td>243.090190</td>\n",
       "      <td>2.458861</td>\n",
       "      <td>28.272152</td>\n",
       "      <td>0.482595</td>\n",
       "    </tr>\n",
       "  </tbody>\n",
       "</table>\n",
       "</div>"
      ],
      "text/plain": [
       "         age        day      month       balance     duration   campaign  \\\n",
       "0  54.604860  13.276118   6.127225   1246.759016   209.813806   2.462312   \n",
       "1  37.140534  24.772936   5.601490    852.452514   201.419615   2.683426   \n",
       "2  40.634561  22.265345   6.774315    971.484419   146.050047  15.700661   \n",
       "3  39.332783  13.245875   4.406766   1087.734873   234.671892   2.177668   \n",
       "4  40.748892  15.648941   6.163466   1286.755293  1008.479074   2.435746   \n",
       "5  41.077538  18.198284  10.733649   1860.238532   215.559337   1.827168   \n",
       "6  34.803790   8.665819   5.427201    826.768200   216.659348   2.178068   \n",
       "7  40.000000   2.000000   2.000000    543.000000   349.000000   2.000000   \n",
       "8  44.517405  16.132911   7.056962  16932.697785   243.090190   2.458861   \n",
       "\n",
       "        pdays    previous  \n",
       "0    7.212970    0.165764  \n",
       "1    1.984109    0.065549  \n",
       "2    0.035883    0.030217  \n",
       "3  290.418867    3.548680  \n",
       "4   15.535204    0.259970  \n",
       "5   50.182598    0.980172  \n",
       "6    2.689970    0.080656  \n",
       "7  262.000000  275.000000  \n",
       "8   28.272152    0.482595  "
      ]
     },
     "execution_count": 53,
     "metadata": {},
     "output_type": "execute_result"
    }
   ],
   "source": [
    "# Jadikan centroid dalam bentuk dataframe\n",
    "centroids_best = kmeans_obj_best.cluster_centers_\n",
    "centroids_best = pd.DataFrame(data = centroids_best,\n",
    "                              columns = data_train_num_clean.columns)\n",
    "\n",
    "# Inverse transform\n",
    "centroid_real_best = num_scaler.inverse_transform(centroids_best)\n",
    "centroid_real_best = pd.DataFrame(data = centroid_real_best,\n",
    "                                  columns = data_train_num_clean.columns)\n",
    "\n",
    "centroid_real_best"
   ]
  },
  {
   "cell_type": "markdown",
   "metadata": {},
   "source": [
    "**Predict Cluster**"
   ]
  },
  {
   "cell_type": "code",
   "execution_count": 54,
   "metadata": {},
   "outputs": [
    {
     "data": {
      "text/html": [
       "<div>\n",
       "<style scoped>\n",
       "    .dataframe tbody tr th:only-of-type {\n",
       "        vertical-align: middle;\n",
       "    }\n",
       "\n",
       "    .dataframe tbody tr th {\n",
       "        vertical-align: top;\n",
       "    }\n",
       "\n",
       "    .dataframe thead th {\n",
       "        text-align: right;\n",
       "    }\n",
       "</style>\n",
       "<table border=\"1\" class=\"dataframe\">\n",
       "  <thead>\n",
       "    <tr style=\"text-align: right;\">\n",
       "      <th></th>\n",
       "      <th>cluster</th>\n",
       "    </tr>\n",
       "  </thead>\n",
       "  <tbody>\n",
       "    <tr>\n",
       "      <th>26999</th>\n",
       "      <td>5</td>\n",
       "    </tr>\n",
       "    <tr>\n",
       "      <th>16168</th>\n",
       "      <td>1</td>\n",
       "    </tr>\n",
       "    <tr>\n",
       "      <th>12338</th>\n",
       "      <td>1</td>\n",
       "    </tr>\n",
       "    <tr>\n",
       "      <th>6074</th>\n",
       "      <td>1</td>\n",
       "    </tr>\n",
       "    <tr>\n",
       "      <th>7385</th>\n",
       "      <td>1</td>\n",
       "    </tr>\n",
       "  </tbody>\n",
       "</table>\n",
       "</div>"
      ],
      "text/plain": [
       "       cluster\n",
       "26999        5\n",
       "16168        1\n",
       "12338        1\n",
       "6074         1\n",
       "7385         1"
      ]
     },
     "execution_count": 54,
     "metadata": {},
     "output_type": "execute_result"
    }
   ],
   "source": [
    "cluster_best = kmeans_obj_best.predict(data_train_num_clean)\n",
    "\n",
    "cluster_best = pd.DataFrame(data = cluster_best,\n",
    "                            columns = [\"cluster\"],\n",
    "                            index= data_train_num_clean.index)\n",
    "cluster_best.head()"
   ]
  },
  {
   "cell_type": "markdown",
   "metadata": {},
   "source": [
    "---\n",
    "### Modeling Clustering - Data PCA"
   ]
  },
  {
   "cell_type": "markdown",
   "metadata": {},
   "source": [
    "*Variasikan beberapa cluster*"
   ]
  },
  {
   "cell_type": "code",
   "execution_count": 55,
   "metadata": {},
   "outputs": [
    {
     "name": "stderr",
     "output_type": "stream",
     "text": [
      "c:\\Users\\Lenovo\\AppData\\Local\\Programs\\Python\\Python38\\lib\\site-packages\\sklearn\\cluster\\_kmeans.py:1416: FutureWarning: The default value of `n_init` will change from 10 to 'auto' in 1.4. Set the value of `n_init` explicitly to suppress the warning\n",
      "  super()._check_params_vs_input(X, default_n_init=10)\n",
      "c:\\Users\\Lenovo\\AppData\\Local\\Programs\\Python\\Python38\\lib\\site-packages\\sklearn\\cluster\\_kmeans.py:1416: FutureWarning: The default value of `n_init` will change from 10 to 'auto' in 1.4. Set the value of `n_init` explicitly to suppress the warning\n",
      "  super()._check_params_vs_input(X, default_n_init=10)\n",
      "c:\\Users\\Lenovo\\AppData\\Local\\Programs\\Python\\Python38\\lib\\site-packages\\sklearn\\cluster\\_kmeans.py:1416: FutureWarning: The default value of `n_init` will change from 10 to 'auto' in 1.4. Set the value of `n_init` explicitly to suppress the warning\n",
      "  super()._check_params_vs_input(X, default_n_init=10)\n",
      "c:\\Users\\Lenovo\\AppData\\Local\\Programs\\Python\\Python38\\lib\\site-packages\\sklearn\\cluster\\_kmeans.py:1416: FutureWarning: The default value of `n_init` will change from 10 to 'auto' in 1.4. Set the value of `n_init` explicitly to suppress the warning\n",
      "  super()._check_params_vs_input(X, default_n_init=10)\n",
      "c:\\Users\\Lenovo\\AppData\\Local\\Programs\\Python\\Python38\\lib\\site-packages\\sklearn\\cluster\\_kmeans.py:1416: FutureWarning: The default value of `n_init` will change from 10 to 'auto' in 1.4. Set the value of `n_init` explicitly to suppress the warning\n",
      "  super()._check_params_vs_input(X, default_n_init=10)\n",
      "c:\\Users\\Lenovo\\AppData\\Local\\Programs\\Python\\Python38\\lib\\site-packages\\sklearn\\cluster\\_kmeans.py:1416: FutureWarning: The default value of `n_init` will change from 10 to 'auto' in 1.4. Set the value of `n_init` explicitly to suppress the warning\n",
      "  super()._check_params_vs_input(X, default_n_init=10)\n",
      "c:\\Users\\Lenovo\\AppData\\Local\\Programs\\Python\\Python38\\lib\\site-packages\\sklearn\\cluster\\_kmeans.py:1416: FutureWarning: The default value of `n_init` will change from 10 to 'auto' in 1.4. Set the value of `n_init` explicitly to suppress the warning\n",
      "  super()._check_params_vs_input(X, default_n_init=10)\n",
      "c:\\Users\\Lenovo\\AppData\\Local\\Programs\\Python\\Python38\\lib\\site-packages\\sklearn\\cluster\\_kmeans.py:1416: FutureWarning: The default value of `n_init` will change from 10 to 'auto' in 1.4. Set the value of `n_init` explicitly to suppress the warning\n",
      "  super()._check_params_vs_input(X, default_n_init=10)\n",
      "c:\\Users\\Lenovo\\AppData\\Local\\Programs\\Python\\Python38\\lib\\site-packages\\sklearn\\cluster\\_kmeans.py:1416: FutureWarning: The default value of `n_init` will change from 10 to 'auto' in 1.4. Set the value of `n_init` explicitly to suppress the warning\n",
      "  super()._check_params_vs_input(X, default_n_init=10)\n"
     ]
    }
   ],
   "source": [
    "score_list = []\n",
    "k_list = np.arange(2, 11, 1)\n",
    "\n",
    "for k in k_list:\n",
    "    # Buat object\n",
    "    kmeans_obj_k = KMeans(n_clusters = k,\n",
    "                          max_iter = 50,\n",
    "                          random_state = 123)\n",
    "    \n",
    "    # Fit data\n",
    "    kmeans_obj_k.fit(data_train_num_pca)\n",
    "\n",
    "    # update score\n",
    "    score_k = -kmeans_obj_k.score(data_train_num_pca)\n",
    "    score_list.append(score_k)\n"
   ]
  },
  {
   "cell_type": "code",
   "execution_count": 56,
   "metadata": {},
   "outputs": [
    {
     "data": {
      "text/plain": [
       "[190061.87607586075,\n",
       " 166776.42959659887,\n",
       " 150015.32793220106,\n",
       " 133921.04031916935,\n",
       " 120306.698308458,\n",
       " 108332.43396555317,\n",
       " 101222.13292847504,\n",
       " 96821.63676580845,\n",
       " 89734.20970110146]"
      ]
     },
     "execution_count": 56,
     "metadata": {},
     "output_type": "execute_result"
    }
   ],
   "source": [
    "score_list"
   ]
  },
  {
   "cell_type": "code",
   "execution_count": 57,
   "metadata": {},
   "outputs": [
    {
     "data": {
      "image/png": "[encoded data removed]",
      "text/plain": [
       "<Figure size 1000x700 with 1 Axes>"
      ]
     },
     "metadata": {},
     "output_type": "display_data"
    }
   ],
   "source": [
    "fig, ax = plt.subplots(nrows=1, ncols=1, figsize=(10, 7))\n",
    "\n",
    "ax.plot(k_list, score_list, \"r\", marker=\"o\")\n",
    "\n",
    "ax.set_xlabel(\"number of cluster\")\n",
    "ax.set_ylabel(\"within-cluster sum-of-square\")\n",
    "plt.show()"
   ]
  },
  {
   "cell_type": "markdown",
   "metadata": {},
   "source": [
    "- Makin banyak cluster, makin rendah scorenya.\n",
    "- Tapi, makin banyak cluster, makin kompleks untuk diinterpretasikan.\n",
    "- Kita coba ambil cluster terbaik di 7, karena perubahan error di cluster selanjutnya mengecil"
   ]
  },
  {
   "cell_type": "code",
   "execution_count": 58,
   "metadata": {},
   "outputs": [
    {
     "name": "stderr",
     "output_type": "stream",
     "text": [
      "c:\\Users\\Lenovo\\AppData\\Local\\Programs\\Python\\Python38\\lib\\site-packages\\sklearn\\cluster\\_kmeans.py:1416: FutureWarning: The default value of `n_init` will change from 10 to 'auto' in 1.4. Set the value of `n_init` explicitly to suppress the warning\n",
      "  super()._check_params_vs_input(X, default_n_init=10)\n"
     ]
    },
    {
     "data": {
      "text/html": [
       "<style>#sk-container-id-4 {color: black;}#sk-container-id-4 pre{padding: 0;}#sk-container-id-4 div.sk-toggleable {background-color: white;}#sk-container-id-4 label.sk-toggleable__label {cursor: pointer;display: block;width: 100%;margin-bottom: 0;padding: 0.3em;box-sizing: border-box;text-align: center;}#sk-container-id-4 label.sk-toggleable__label-arrow:before {content: \"▸\";float: left;margin-right: 0.25em;color: #696969;}#sk-container-id-4 label.sk-toggleable__label-arrow:hover:before {color: black;}#sk-container-id-4 div.sk-estimator:hover label.sk-toggleable__label-arrow:before {color: black;}#sk-container-id-4 div.sk-toggleable__content {max-height: 0;max-width: 0;overflow: hidden;text-align: left;background-color: #f0f8ff;}#sk-container-id-4 div.sk-toggleable__content pre {margin: 0.2em;color: black;border-radius: 0.25em;background-color: #f0f8ff;}#sk-container-id-4 input.sk-toggleable__control:checked~div.sk-toggleable__content {max-height: 200px;max-width: 100%;overflow: auto;}#sk-container-id-4 input.sk-toggleable__control:checked~label.sk-toggleable__label-arrow:before {content: \"▾\";}#sk-container-id-4 div.sk-estimator input.sk-toggleable__control:checked~label.sk-toggleable__label {background-color: #d4ebff;}#sk-container-id-4 div.sk-label input.sk-toggleable__control:checked~label.sk-toggleable__label {background-color: #d4ebff;}#sk-container-id-4 input.sk-hidden--visually {border: 0;clip: rect(1px 1px 1px 1px);clip: rect(1px, 1px, 1px, 1px);height: 1px;margin: -1px;overflow: hidden;padding: 0;position: absolute;width: 1px;}#sk-container-id-4 div.sk-estimator {font-family: monospace;background-color: #f0f8ff;border: 1px dotted black;border-radius: 0.25em;box-sizing: border-box;margin-bottom: 0.5em;}#sk-container-id-4 div.sk-estimator:hover {background-color: #d4ebff;}#sk-container-id-4 div.sk-parallel-item::after {content: \"\";width: 100%;border-bottom: 1px solid gray;flex-grow: 1;}#sk-container-id-4 div.sk-label:hover label.sk-toggleable__label {background-color: #d4ebff;}#sk-container-id-4 div.sk-serial::before {content: \"\";position: absolute;border-left: 1px solid gray;box-sizing: border-box;top: 0;bottom: 0;left: 50%;z-index: 0;}#sk-container-id-4 div.sk-serial {display: flex;flex-direction: column;align-items: center;background-color: white;padding-right: 0.2em;padding-left: 0.2em;position: relative;}#sk-container-id-4 div.sk-item {position: relative;z-index: 1;}#sk-container-id-4 div.sk-parallel {display: flex;align-items: stretch;justify-content: center;background-color: white;position: relative;}#sk-container-id-4 div.sk-item::before, #sk-container-id-4 div.sk-parallel-item::before {content: \"\";position: absolute;border-left: 1px solid gray;box-sizing: border-box;top: 0;bottom: 0;left: 50%;z-index: -1;}#sk-container-id-4 div.sk-parallel-item {display: flex;flex-direction: column;z-index: 1;position: relative;background-color: white;}#sk-container-id-4 div.sk-parallel-item:first-child::after {align-self: flex-end;width: 50%;}#sk-container-id-4 div.sk-parallel-item:last-child::after {align-self: flex-start;width: 50%;}#sk-container-id-4 div.sk-parallel-item:only-child::after {width: 0;}#sk-container-id-4 div.sk-dashed-wrapped {border: 1px dashed gray;margin: 0 0.4em 0.5em 0.4em;box-sizing: border-box;padding-bottom: 0.4em;background-color: white;}#sk-container-id-4 div.sk-label label {font-family: monospace;font-weight: bold;display: inline-block;line-height: 1.2em;}#sk-container-id-4 div.sk-label-container {text-align: center;}#sk-container-id-4 div.sk-container {/* jupyter's `normalize.less` sets `[hidden] { display: none; }` but bootstrap.min.css set `[hidden] { display: none !important; }` so we also need the `!important` here to be able to override the default hidden behavior on the sphinx rendered scikit-learn.org. See: https://github.com/scikit-learn/scikit-learn/issues/21755 */display: inline-block !important;position: relative;}#sk-container-id-4 div.sk-text-repr-fallback {display: none;}</style><div id=\"sk-container-id-4\" class=\"sk-top-container\"><div class=\"sk-text-repr-fallback\"><pre>KMeans(n_clusters=7, random_state=123)</pre><b>In a Jupyter environment, please rerun this cell to show the HTML representation or trust the notebook. <br />On GitHub, the HTML representation is unable to render, please try loading this page with nbviewer.org.</b></div><div class=\"sk-container\" hidden><div class=\"sk-item\"><div class=\"sk-estimator sk-toggleable\"><input class=\"sk-toggleable__control sk-hidden--visually\" id=\"sk-estimator-id-4\" type=\"checkbox\" checked><label for=\"sk-estimator-id-4\" class=\"sk-toggleable__label sk-toggleable__label-arrow\">KMeans</label><div class=\"sk-toggleable__content\"><pre>KMeans(n_clusters=7, random_state=123)</pre></div></div></div></div></div>"
      ],
      "text/plain": [
       "KMeans(n_clusters=7, random_state=123)"
      ]
     },
     "execution_count": 58,
     "metadata": {},
     "output_type": "execute_result"
    }
   ],
   "source": [
    "# Buat object\n",
    "kmeans_obj_pca_best = KMeans(n_clusters = 7,\n",
    "                             random_state = 123)\n",
    "\n",
    "# Fit object\n",
    "kmeans_obj_pca_best.fit(data_train_num_pca)"
   ]
  },
  {
   "cell_type": "markdown",
   "metadata": {},
   "source": [
    "**Predict Cluster**"
   ]
  },
  {
   "cell_type": "code",
   "execution_count": 59,
   "metadata": {},
   "outputs": [
    {
     "data": {
      "text/html": [
       "<div>\n",
       "<style scoped>\n",
       "    .dataframe tbody tr th:only-of-type {\n",
       "        vertical-align: middle;\n",
       "    }\n",
       "\n",
       "    .dataframe tbody tr th {\n",
       "        vertical-align: top;\n",
       "    }\n",
       "\n",
       "    .dataframe thead th {\n",
       "        text-align: right;\n",
       "    }\n",
       "</style>\n",
       "<table border=\"1\" class=\"dataframe\">\n",
       "  <thead>\n",
       "    <tr style=\"text-align: right;\">\n",
       "      <th></th>\n",
       "      <th>cluster</th>\n",
       "    </tr>\n",
       "  </thead>\n",
       "  <tbody>\n",
       "    <tr>\n",
       "      <th>26999</th>\n",
       "      <td>0</td>\n",
       "    </tr>\n",
       "    <tr>\n",
       "      <th>16168</th>\n",
       "      <td>0</td>\n",
       "    </tr>\n",
       "    <tr>\n",
       "      <th>12338</th>\n",
       "      <td>5</td>\n",
       "    </tr>\n",
       "    <tr>\n",
       "      <th>6074</th>\n",
       "      <td>5</td>\n",
       "    </tr>\n",
       "    <tr>\n",
       "      <th>7385</th>\n",
       "      <td>1</td>\n",
       "    </tr>\n",
       "  </tbody>\n",
       "</table>\n",
       "</div>"
      ],
      "text/plain": [
       "       cluster\n",
       "26999        0\n",
       "16168        0\n",
       "12338        5\n",
       "6074         5\n",
       "7385         1"
      ]
     },
     "execution_count": 59,
     "metadata": {},
     "output_type": "execute_result"
    }
   ],
   "source": [
    "cluster_pca_best = kmeans_obj_pca_best.predict(data_train_num_pca)\n",
    "\n",
    "cluster_pca_best = pd.DataFrame(data = cluster_pca_best,\n",
    "                                columns = [\"cluster\"],\n",
    "                                index = data_train_num_pca.index)\n",
    "cluster_pca_best.head()"
   ]
  },
  {
   "cell_type": "code",
   "execution_count": 60,
   "metadata": {},
   "outputs": [
    {
     "data": {
      "text/html": [
       "<div>\n",
       "<style scoped>\n",
       "    .dataframe tbody tr th:only-of-type {\n",
       "        vertical-align: middle;\n",
       "    }\n",
       "\n",
       "    .dataframe tbody tr th {\n",
       "        vertical-align: top;\n",
       "    }\n",
       "\n",
       "    .dataframe thead th {\n",
       "        text-align: right;\n",
       "    }\n",
       "</style>\n",
       "<table border=\"1\" class=\"dataframe\">\n",
       "  <thead>\n",
       "    <tr style=\"text-align: right;\">\n",
       "      <th></th>\n",
       "      <th>PC_1</th>\n",
       "      <th>PC_2</th>\n",
       "      <th>PC_3</th>\n",
       "      <th>PC_4</th>\n",
       "      <th>PC_5</th>\n",
       "      <th>PC_6</th>\n",
       "    </tr>\n",
       "  </thead>\n",
       "  <tbody>\n",
       "    <tr>\n",
       "      <th>0</th>\n",
       "      <td>-0.606478</td>\n",
       "      <td>0.767474</td>\n",
       "      <td>0.025522</td>\n",
       "      <td>0.252602</td>\n",
       "      <td>0.298534</td>\n",
       "      <td>-1.084011</td>\n",
       "    </tr>\n",
       "    <tr>\n",
       "      <th>1</th>\n",
       "      <td>-0.236993</td>\n",
       "      <td>0.167790</td>\n",
       "      <td>-0.608284</td>\n",
       "      <td>-0.806180</td>\n",
       "      <td>-0.730189</td>\n",
       "      <td>0.124474</td>\n",
       "    </tr>\n",
       "    <tr>\n",
       "      <th>2</th>\n",
       "      <td>2.670768</td>\n",
       "      <td>0.440839</td>\n",
       "      <td>0.636797</td>\n",
       "      <td>0.037757</td>\n",
       "      <td>-0.060899</td>\n",
       "      <td>0.145607</td>\n",
       "    </tr>\n",
       "    <tr>\n",
       "      <th>3</th>\n",
       "      <td>-0.078825</td>\n",
       "      <td>-0.512625</td>\n",
       "      <td>-1.155161</td>\n",
       "      <td>2.163038</td>\n",
       "      <td>-0.829000</td>\n",
       "      <td>0.407610</td>\n",
       "    </tr>\n",
       "    <tr>\n",
       "      <th>4</th>\n",
       "      <td>-1.504373</td>\n",
       "      <td>0.939210</td>\n",
       "      <td>1.939613</td>\n",
       "      <td>0.179895</td>\n",
       "      <td>-0.506180</td>\n",
       "      <td>0.778747</td>\n",
       "    </tr>\n",
       "    <tr>\n",
       "      <th>5</th>\n",
       "      <td>-0.105925</td>\n",
       "      <td>-0.840818</td>\n",
       "      <td>0.178404</td>\n",
       "      <td>-0.081011</td>\n",
       "      <td>0.440697</td>\n",
       "      <td>0.037082</td>\n",
       "    </tr>\n",
       "    <tr>\n",
       "      <th>6</th>\n",
       "      <td>-0.367673</td>\n",
       "      <td>2.694139</td>\n",
       "      <td>-2.141067</td>\n",
       "      <td>-0.027174</td>\n",
       "      <td>2.869796</td>\n",
       "      <td>2.185303</td>\n",
       "    </tr>\n",
       "  </tbody>\n",
       "</table>\n",
       "</div>"
      ],
      "text/plain": [
       "       PC_1      PC_2      PC_3      PC_4      PC_5      PC_6\n",
       "0 -0.606478  0.767474  0.025522  0.252602  0.298534 -1.084011\n",
       "1 -0.236993  0.167790 -0.608284 -0.806180 -0.730189  0.124474\n",
       "2  2.670768  0.440839  0.636797  0.037757 -0.060899  0.145607\n",
       "3 -0.078825 -0.512625 -1.155161  2.163038 -0.829000  0.407610\n",
       "4 -1.504373  0.939210  1.939613  0.179895 -0.506180  0.778747\n",
       "5 -0.105925 -0.840818  0.178404 -0.081011  0.440697  0.037082\n",
       "6 -0.367673  2.694139 -2.141067 -0.027174  2.869796  2.185303"
      ]
     },
     "execution_count": 60,
     "metadata": {},
     "output_type": "execute_result"
    }
   ],
   "source": [
    "# Cari centroid\n",
    "centroid_pca_best = kmeans_obj_pca_best.cluster_centers_\n",
    "centroid_pca_best = pd.DataFrame(data = centroid_pca_best,\n",
    "                                 columns = data_train_num_pca.columns)\n",
    "centroid_pca_best"
   ]
  },
  {
   "cell_type": "code",
   "execution_count": 61,
   "metadata": {},
   "outputs": [
    {
     "data": {
      "text/html": [
       "<div>\n",
       "<style scoped>\n",
       "    .dataframe tbody tr th:only-of-type {\n",
       "        vertical-align: middle;\n",
       "    }\n",
       "\n",
       "    .dataframe tbody tr th {\n",
       "        vertical-align: top;\n",
       "    }\n",
       "\n",
       "    .dataframe thead th {\n",
       "        text-align: right;\n",
       "    }\n",
       "</style>\n",
       "<table border=\"1\" class=\"dataframe\">\n",
       "  <thead>\n",
       "    <tr style=\"text-align: right;\">\n",
       "      <th></th>\n",
       "      <th>age</th>\n",
       "      <th>day</th>\n",
       "      <th>month</th>\n",
       "      <th>balance</th>\n",
       "      <th>duration</th>\n",
       "      <th>campaign</th>\n",
       "      <th>pdays</th>\n",
       "      <th>previous</th>\n",
       "    </tr>\n",
       "  </thead>\n",
       "  <tbody>\n",
       "    <tr>\n",
       "      <th>0</th>\n",
       "      <td>-0.078807</td>\n",
       "      <td>0.446718</td>\n",
       "      <td>1.414912</td>\n",
       "      <td>0.016080</td>\n",
       "      <td>-0.203883</td>\n",
       "      <td>-0.072711</td>\n",
       "      <td>-0.174095</td>\n",
       "      <td>0.018043</td>\n",
       "    </tr>\n",
       "    <tr>\n",
       "      <th>1</th>\n",
       "      <td>1.133551</td>\n",
       "      <td>-0.438297</td>\n",
       "      <td>-0.065837</td>\n",
       "      <td>-0.063451</td>\n",
       "      <td>-0.173247</td>\n",
       "      <td>-0.065725</td>\n",
       "      <td>-0.254677</td>\n",
       "      <td>-0.261394</td>\n",
       "    </tr>\n",
       "    <tr>\n",
       "      <th>2</th>\n",
       "      <td>-0.172790</td>\n",
       "      <td>-0.382278</td>\n",
       "      <td>-0.712173</td>\n",
       "      <td>-0.084781</td>\n",
       "      <td>-0.093826</td>\n",
       "      <td>-0.189019</td>\n",
       "      <td>1.904735</td>\n",
       "      <td>1.842896</td>\n",
       "    </tr>\n",
       "    <tr>\n",
       "      <th>3</th>\n",
       "      <td>0.013660</td>\n",
       "      <td>0.353093</td>\n",
       "      <td>-0.142858</td>\n",
       "      <td>-0.052589</td>\n",
       "      <td>2.607918</td>\n",
       "      <td>-0.319201</td>\n",
       "      <td>-0.229626</td>\n",
       "      <td>-0.177834</td>\n",
       "    </tr>\n",
       "    <tr>\n",
       "      <th>4</th>\n",
       "      <td>0.211444</td>\n",
       "      <td>1.669523</td>\n",
       "      <td>-0.027457</td>\n",
       "      <td>-0.168574</td>\n",
       "      <td>-0.597365</td>\n",
       "      <td>2.082814</td>\n",
       "      <td>-0.451636</td>\n",
       "      <td>-0.205568</td>\n",
       "    </tr>\n",
       "    <tr>\n",
       "      <th>5</th>\n",
       "      <td>-0.697574</td>\n",
       "      <td>-0.188769</td>\n",
       "      <td>-0.392455</td>\n",
       "      <td>-0.187611</td>\n",
       "      <td>-0.173824</td>\n",
       "      <td>-0.170596</td>\n",
       "      <td>-0.233402</td>\n",
       "      <td>-0.356254</td>\n",
       "    </tr>\n",
       "    <tr>\n",
       "      <th>6</th>\n",
       "      <td>0.321433</td>\n",
       "      <td>0.086945</td>\n",
       "      <td>0.414915</td>\n",
       "      <td>4.967264</td>\n",
       "      <td>-0.080505</td>\n",
       "      <td>-0.134642</td>\n",
       "      <td>-0.066005</td>\n",
       "      <td>-0.063591</td>\n",
       "    </tr>\n",
       "  </tbody>\n",
       "</table>\n",
       "</div>"
      ],
      "text/plain": [
       "        age       day     month   balance  duration  campaign     pdays  \\\n",
       "0 -0.078807  0.446718  1.414912  0.016080 -0.203883 -0.072711 -0.174095   \n",
       "1  1.133551 -0.438297 -0.065837 -0.063451 -0.173247 -0.065725 -0.254677   \n",
       "2 -0.172790 -0.382278 -0.712173 -0.084781 -0.093826 -0.189019  1.904735   \n",
       "3  0.013660  0.353093 -0.142858 -0.052589  2.607918 -0.319201 -0.229626   \n",
       "4  0.211444  1.669523 -0.027457 -0.168574 -0.597365  2.082814 -0.451636   \n",
       "5 -0.697574 -0.188769 -0.392455 -0.187611 -0.173824 -0.170596 -0.233402   \n",
       "6  0.321433  0.086945  0.414915  4.967264 -0.080505 -0.134642 -0.066005   \n",
       "\n",
       "   previous  \n",
       "0  0.018043  \n",
       "1 -0.261394  \n",
       "2  1.842896  \n",
       "3 -0.177834  \n",
       "4 -0.205568  \n",
       "5 -0.356254  \n",
       "6 -0.063591  "
      ]
     },
     "execution_count": 61,
     "metadata": {},
     "output_type": "execute_result"
    }
   ],
   "source": [
    "# Inverse transform centroid pca\n",
    "# agar dapat diinterpretasikan\n",
    "centroid_pca_best_inv = pca_obj.inverse_transform(centroid_pca_best)\n",
    "centroid_pca_best_inv = pd.DataFrame(centroid_pca_best_inv,\n",
    "                                     columns = data_train_num_clean.columns)\n",
    "centroid_pca_best_inv"
   ]
  },
  {
   "cell_type": "code",
   "execution_count": 62,
   "metadata": {},
   "outputs": [
    {
     "data": {
      "text/html": [
       "<div>\n",
       "<style scoped>\n",
       "    .dataframe tbody tr th:only-of-type {\n",
       "        vertical-align: middle;\n",
       "    }\n",
       "\n",
       "    .dataframe tbody tr th {\n",
       "        vertical-align: top;\n",
       "    }\n",
       "\n",
       "    .dataframe thead th {\n",
       "        text-align: right;\n",
       "    }\n",
       "</style>\n",
       "<table border=\"1\" class=\"dataframe\">\n",
       "  <thead>\n",
       "    <tr style=\"text-align: right;\">\n",
       "      <th></th>\n",
       "      <th>age</th>\n",
       "      <th>day</th>\n",
       "      <th>month</th>\n",
       "      <th>balance</th>\n",
       "      <th>duration</th>\n",
       "      <th>campaign</th>\n",
       "      <th>pdays</th>\n",
       "      <th>previous</th>\n",
       "    </tr>\n",
       "  </thead>\n",
       "  <tbody>\n",
       "    <tr>\n",
       "      <th>0</th>\n",
       "      <td>40.126210</td>\n",
       "      <td>19.506695</td>\n",
       "      <td>9.536514</td>\n",
       "      <td>1424.715229</td>\n",
       "      <td>206.278266</td>\n",
       "      <td>2.535740</td>\n",
       "      <td>22.736684</td>\n",
       "      <td>0.622653</td>\n",
       "    </tr>\n",
       "    <tr>\n",
       "      <th>1</th>\n",
       "      <td>52.985999</td>\n",
       "      <td>12.150599</td>\n",
       "      <td>5.979669</td>\n",
       "      <td>1184.388022</td>\n",
       "      <td>214.241971</td>\n",
       "      <td>2.557313</td>\n",
       "      <td>14.680734</td>\n",
       "      <td>-0.044593</td>\n",
       "    </tr>\n",
       "    <tr>\n",
       "      <th>2</th>\n",
       "      <td>39.129303</td>\n",
       "      <td>12.616217</td>\n",
       "      <td>4.427134</td>\n",
       "      <td>1119.932234</td>\n",
       "      <td>234.886724</td>\n",
       "      <td>2.176596</td>\n",
       "      <td>230.562042</td>\n",
       "      <td>4.980068</td>\n",
       "    </tr>\n",
       "    <tr>\n",
       "      <th>3</th>\n",
       "      <td>41.107025</td>\n",
       "      <td>18.728496</td>\n",
       "      <td>5.794661</td>\n",
       "      <td>1217.211838</td>\n",
       "      <td>937.180109</td>\n",
       "      <td>1.774610</td>\n",
       "      <td>17.185115</td>\n",
       "      <td>0.154932</td>\n",
       "    </tr>\n",
       "    <tr>\n",
       "      <th>4</th>\n",
       "      <td>43.204973</td>\n",
       "      <td>29.670437</td>\n",
       "      <td>6.071860</td>\n",
       "      <td>866.725054</td>\n",
       "      <td>103.996208</td>\n",
       "      <td>9.191736</td>\n",
       "      <td>-5.009676</td>\n",
       "      <td>0.088709</td>\n",
       "    </tr>\n",
       "    <tr>\n",
       "      <th>5</th>\n",
       "      <td>33.562789</td>\n",
       "      <td>14.224630</td>\n",
       "      <td>5.195114</td>\n",
       "      <td>809.199587</td>\n",
       "      <td>214.091779</td>\n",
       "      <td>2.233483</td>\n",
       "      <td>16.807646</td>\n",
       "      <td>-0.271102</td>\n",
       "    </tr>\n",
       "    <tr>\n",
       "      <th>6</th>\n",
       "      <td>44.371652</td>\n",
       "      <td>16.516318</td>\n",
       "      <td>7.134463</td>\n",
       "      <td>16386.251372</td>\n",
       "      <td>238.349258</td>\n",
       "      <td>2.344507</td>\n",
       "      <td>33.542751</td>\n",
       "      <td>0.427723</td>\n",
       "    </tr>\n",
       "  </tbody>\n",
       "</table>\n",
       "</div>"
      ],
      "text/plain": [
       "         age        day     month       balance    duration  campaign  \\\n",
       "0  40.126210  19.506695  9.536514   1424.715229  206.278266  2.535740   \n",
       "1  52.985999  12.150599  5.979669   1184.388022  214.241971  2.557313   \n",
       "2  39.129303  12.616217  4.427134   1119.932234  234.886724  2.176596   \n",
       "3  41.107025  18.728496  5.794661   1217.211838  937.180109  1.774610   \n",
       "4  43.204973  29.670437  6.071860    866.725054  103.996208  9.191736   \n",
       "5  33.562789  14.224630  5.195114    809.199587  214.091779  2.233483   \n",
       "6  44.371652  16.516318  7.134463  16386.251372  238.349258  2.344507   \n",
       "\n",
       "        pdays  previous  \n",
       "0   22.736684  0.622653  \n",
       "1   14.680734 -0.044593  \n",
       "2  230.562042  4.980068  \n",
       "3   17.185115  0.154932  \n",
       "4   -5.009676  0.088709  \n",
       "5   16.807646 -0.271102  \n",
       "6   33.542751  0.427723  "
      ]
     },
     "execution_count": 62,
     "metadata": {},
     "output_type": "execute_result"
    }
   ],
   "source": [
    "# Inverse transform centroid standardisasi\n",
    "# agar dapat diinterpretasikan\n",
    "centroid_pca_best_real = num_scaler.inverse_transform(centroid_pca_best_inv)\n",
    "centroid_pca_best_real = pd.DataFrame(centroid_pca_best_real,\n",
    "                                      columns = data_train_num_clean.columns)\n",
    "\n",
    "centroid_pca_best_real"
   ]
  },
  {
   "cell_type": "markdown",
   "metadata": {},
   "source": [
    "**Sekarang, data bisa diinterpretasikan**"
   ]
  },
  {
   "cell_type": "markdown",
   "metadata": {},
   "source": [
    "---\n",
    "#### Clustering Test Data\n",
    "\n",
    "*Preprocessing Test Data*"
   ]
  },
  {
   "cell_type": "code",
   "execution_count": 63,
   "metadata": {},
   "outputs": [],
   "source": [
    "def transformTestData(data, num_col, cat_col, num_imputer, num_scaler):\n",
    "    # 1. Split num-cat data\n",
    "    data_num, _ = splitNumCat(data = data,\n",
    "                              num_col = num_col,\n",
    "                              cat_col = cat_col)\n",
    "    \n",
    "    # 2. Handling Data\n",
    "    # 2.1 transform month\n",
    "    data_num = transformMonth(data = data_num)\n",
    "\n",
    "    # 2.2 impute data\n",
    "    data_num_imputed, _= imputerNumeric(data = data_train_num,\n",
    "                                        imputer = num_imputer)\n",
    "    \n",
    "    # 2.3 Standardization\n",
    "    data_num_scaled = transformStandardize(data = data_num_imputed,\n",
    "                                           scaler = num_scaler)\n",
    "    return data_num_scaled"
   ]
  },
  {
   "cell_type": "code",
   "execution_count": 64,
   "metadata": {},
   "outputs": [
    {
     "name": "stderr",
     "output_type": "stream",
     "text": [
      "C:\\Users\\Lenovo\\AppData\\Local\\Temp\\ipykernel_3028\\831587528.py:6: SettingWithCopyWarning: \n",
      "A value is trying to be set on a copy of a slice from a DataFrame.\n",
      "Try using .loc[row_indexer,col_indexer] = value instead\n",
      "\n",
      "See the caveats in the documentation: https://pandas.pydata.org/pandas-docs/stable/user_guide/indexing.html#returning-a-view-versus-a-copy\n",
      "  data[\"month\"] = data[\"month\"].replace(month_list, number_list)\n"
     ]
    }
   ],
   "source": [
    "data_test_clean = transformTestData(data = data_test,\n",
    "                                    num_col = num_col,\n",
    "                                    cat_col = cat_col,\n",
    "                                    num_imputer = num_imputer,\n",
    "                                    num_scaler = num_scaler)"
   ]
  },
  {
   "cell_type": "code",
   "execution_count": 65,
   "metadata": {},
   "outputs": [
    {
     "data": {
      "text/html": [
       "<div>\n",
       "<style scoped>\n",
       "    .dataframe tbody tr th:only-of-type {\n",
       "        vertical-align: middle;\n",
       "    }\n",
       "\n",
       "    .dataframe tbody tr th {\n",
       "        vertical-align: top;\n",
       "    }\n",
       "\n",
       "    .dataframe thead th {\n",
       "        text-align: right;\n",
       "    }\n",
       "</style>\n",
       "<table border=\"1\" class=\"dataframe\">\n",
       "  <thead>\n",
       "    <tr style=\"text-align: right;\">\n",
       "      <th></th>\n",
       "      <th>age</th>\n",
       "      <th>day</th>\n",
       "      <th>month</th>\n",
       "      <th>balance</th>\n",
       "      <th>duration</th>\n",
       "      <th>campaign</th>\n",
       "      <th>pdays</th>\n",
       "      <th>previous</th>\n",
       "    </tr>\n",
       "  </thead>\n",
       "  <tbody>\n",
       "    <tr>\n",
       "      <th>26999</th>\n",
       "      <td>-0.844906</td>\n",
       "      <td>0.626379</td>\n",
       "      <td>2.024176</td>\n",
       "      <td>0.440092</td>\n",
       "      <td>0.779886</td>\n",
       "      <td>0.077638</td>\n",
       "      <td>-0.411528</td>\n",
       "      <td>-0.242719</td>\n",
       "    </tr>\n",
       "    <tr>\n",
       "      <th>16168</th>\n",
       "      <td>-0.373530</td>\n",
       "      <td>0.746689</td>\n",
       "      <td>0.358937</td>\n",
       "      <td>0.006577</td>\n",
       "      <td>-0.231883</td>\n",
       "      <td>-0.246209</td>\n",
       "      <td>-0.411528</td>\n",
       "      <td>-0.242719</td>\n",
       "    </tr>\n",
       "    <tr>\n",
       "      <th>12338</th>\n",
       "      <td>-1.787657</td>\n",
       "      <td>1.227931</td>\n",
       "      <td>-0.057373</td>\n",
       "      <td>-0.553021</td>\n",
       "      <td>-0.420387</td>\n",
       "      <td>-0.246209</td>\n",
       "      <td>-0.411528</td>\n",
       "      <td>-0.242719</td>\n",
       "    </tr>\n",
       "    <tr>\n",
       "      <th>6074</th>\n",
       "      <td>-0.467806</td>\n",
       "      <td>1.227931</td>\n",
       "      <td>-0.473683</td>\n",
       "      <td>-0.743304</td>\n",
       "      <td>-0.605045</td>\n",
       "      <td>-0.246209</td>\n",
       "      <td>-0.411528</td>\n",
       "      <td>-0.242719</td>\n",
       "    </tr>\n",
       "    <tr>\n",
       "      <th>7385</th>\n",
       "      <td>0.852046</td>\n",
       "      <td>1.588862</td>\n",
       "      <td>-0.473683</td>\n",
       "      <td>-0.313430</td>\n",
       "      <td>-0.766620</td>\n",
       "      <td>-0.246209</td>\n",
       "      <td>-0.411528</td>\n",
       "      <td>-0.242719</td>\n",
       "    </tr>\n",
       "  </tbody>\n",
       "</table>\n",
       "</div>"
      ],
      "text/plain": [
       "            age       day     month   balance  duration  campaign     pdays  \\\n",
       "26999 -0.844906  0.626379  2.024176  0.440092  0.779886  0.077638 -0.411528   \n",
       "16168 -0.373530  0.746689  0.358937  0.006577 -0.231883 -0.246209 -0.411528   \n",
       "12338 -1.787657  1.227931 -0.057373 -0.553021 -0.420387 -0.246209 -0.411528   \n",
       "6074  -0.467806  1.227931 -0.473683 -0.743304 -0.605045 -0.246209 -0.411528   \n",
       "7385   0.852046  1.588862 -0.473683 -0.313430 -0.766620 -0.246209 -0.411528   \n",
       "\n",
       "       previous  \n",
       "26999 -0.242719  \n",
       "16168 -0.242719  \n",
       "12338 -0.242719  \n",
       "6074  -0.242719  \n",
       "7385  -0.242719  "
      ]
     },
     "execution_count": 65,
     "metadata": {},
     "output_type": "execute_result"
    }
   ],
   "source": [
    "data_test_clean.head()"
   ]
  },
  {
   "cell_type": "markdown",
   "metadata": {},
   "source": [
    "*Transform PCA*"
   ]
  },
  {
   "cell_type": "code",
   "execution_count": 66,
   "metadata": {},
   "outputs": [],
   "source": [
    "data_test_clean_pca = transformPCA(data = data_test_clean,\n",
    "                                   pca_obj = pca_obj)"
   ]
  },
  {
   "cell_type": "code",
   "execution_count": 67,
   "metadata": {},
   "outputs": [
    {
     "data": {
      "text/html": [
       "<div>\n",
       "<style scoped>\n",
       "    .dataframe tbody tr th:only-of-type {\n",
       "        vertical-align: middle;\n",
       "    }\n",
       "\n",
       "    .dataframe tbody tr th {\n",
       "        vertical-align: top;\n",
       "    }\n",
       "\n",
       "    .dataframe thead th {\n",
       "        text-align: right;\n",
       "    }\n",
       "</style>\n",
       "<table border=\"1\" class=\"dataframe\">\n",
       "  <thead>\n",
       "    <tr style=\"text-align: right;\">\n",
       "      <th></th>\n",
       "      <th>PC_1</th>\n",
       "      <th>PC_2</th>\n",
       "      <th>PC_3</th>\n",
       "      <th>PC_4</th>\n",
       "      <th>PC_5</th>\n",
       "      <th>PC_6</th>\n",
       "    </tr>\n",
       "  </thead>\n",
       "  <tbody>\n",
       "    <tr>\n",
       "      <th>26999</th>\n",
       "      <td>-1.073176</td>\n",
       "      <td>0.751500</td>\n",
       "      <td>-0.296867</td>\n",
       "      <td>1.463372</td>\n",
       "      <td>0.820467</td>\n",
       "      <td>-1.185871</td>\n",
       "    </tr>\n",
       "    <tr>\n",
       "      <th>16168</th>\n",
       "      <td>-0.649881</td>\n",
       "      <td>0.026484</td>\n",
       "      <td>0.239826</td>\n",
       "      <td>0.257520</td>\n",
       "      <td>0.424834</td>\n",
       "      <td>-0.360650</td>\n",
       "    </tr>\n",
       "    <tr>\n",
       "      <th>12338</th>\n",
       "      <td>-0.576140</td>\n",
       "      <td>-0.902214</td>\n",
       "      <td>1.304431</td>\n",
       "      <td>0.767544</td>\n",
       "      <td>1.062838</td>\n",
       "      <td>-0.524688</td>\n",
       "    </tr>\n",
       "    <tr>\n",
       "      <th>6074</th>\n",
       "      <td>-0.560112</td>\n",
       "      <td>-0.588036</td>\n",
       "      <td>1.039891</td>\n",
       "      <td>0.060206</td>\n",
       "      <td>0.047435</td>\n",
       "      <td>-0.154479</td>\n",
       "    </tr>\n",
       "    <tr>\n",
       "      <th>7385</th>\n",
       "      <td>-0.783853</td>\n",
       "      <td>0.330361</td>\n",
       "      <td>0.612266</td>\n",
       "      <td>-0.405923</td>\n",
       "      <td>-0.563307</td>\n",
       "      <td>0.244481</td>\n",
       "    </tr>\n",
       "  </tbody>\n",
       "</table>\n",
       "</div>"
      ],
      "text/plain": [
       "           PC_1      PC_2      PC_3      PC_4      PC_5      PC_6\n",
       "26999 -1.073176  0.751500 -0.296867  1.463372  0.820467 -1.185871\n",
       "16168 -0.649881  0.026484  0.239826  0.257520  0.424834 -0.360650\n",
       "12338 -0.576140 -0.902214  1.304431  0.767544  1.062838 -0.524688\n",
       "6074  -0.560112 -0.588036  1.039891  0.060206  0.047435 -0.154479\n",
       "7385  -0.783853  0.330361  0.612266 -0.405923 -0.563307  0.244481"
      ]
     },
     "execution_count": 67,
     "metadata": {},
     "output_type": "execute_result"
    }
   ],
   "source": [
    "data_test_clean_pca.head()"
   ]
  },
  {
   "cell_type": "markdown",
   "metadata": {},
   "source": [
    "#### Predict Test Data"
   ]
  },
  {
   "cell_type": "markdown",
   "metadata": {},
   "source": [
    "*predict data test - FULL*"
   ]
  },
  {
   "cell_type": "code",
   "execution_count": 68,
   "metadata": {},
   "outputs": [
    {
     "data": {
      "text/plain": [
       "array([5, 1, 1, ..., 1, 1, 1])"
      ]
     },
     "execution_count": 68,
     "metadata": {},
     "output_type": "execute_result"
    }
   ],
   "source": [
    "kmeans_obj_best.predict(data_test_clean)"
   ]
  },
  {
   "cell_type": "markdown",
   "metadata": {},
   "source": [
    "*predict data test - PCA*"
   ]
  },
  {
   "cell_type": "code",
   "execution_count": 69,
   "metadata": {},
   "outputs": [
    {
     "data": {
      "text/plain": [
       "array([0, 0, 5, ..., 0, 1, 0])"
      ]
     },
     "execution_count": 69,
     "metadata": {},
     "output_type": "execute_result"
    }
   ],
   "source": [
    "kmeans_obj_pca_best.predict(data_test_clean_pca)"
   ]
  }
 ],
 "metadata": {
  "kernelspec": {
   "display_name": "Python 3",
   "language": "python",
   "name": "python3"
  },
  "language_info": {
   "codemirror_mode": {
    "name": "ipython",
    "version": 3
   },
   "file_extension": ".py",
   "mimetype": "text/x-python",
   "name": "python",
   "nbconvert_exporter": "python",
   "pygments_lexer": "ipython3",
   "version": "3.8.0"
  }
 },
 "nbformat": 4,
 "nbformat_minor": 2
}
